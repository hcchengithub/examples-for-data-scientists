{
 "cells": [
  {
   "cell_type": "code",
   "execution_count": 1,
   "metadata": {
    "collapsed": true,
    "jupyter": {
     "outputs_hidden": true
    },
    "tags": []
   },
   "outputs": [
    {
     "name": "stdout",
     "output_type": "stream",
     "text": [
      "p e f o r t h    v1.28\n",
      "source code http://github.com/hcchengithub/peforth\n",
      "Type 'peforth.ok()' to enter forth interpreter, 'exit' to come back.\n",
      "\n",
      "*** Start self-test \n",
      "*** Data stack should be empty ... pass\n",
      "*** Rreturn stack should have less than 2 cells ... pass\n",
      "*** // adds help to the last word ... pass\n",
      "*** TIB lines after \\ should be ignored ... pass\n",
      "*** slice ... pass\n",
      "reDef ---\n",
      "*** case ... endcase ... pass\n",
      "*** modules lists imported modules ... pass\n",
      "*** cd mimic DOS/Linux cd command ... pass\n",
      "*** debugger commands x@ x> >x .sx xdrop xdropall ... pass\n",
      "*** xstack commands x@ x> >x .sx xdrop xdropall ... pass\n",
      "*** /// add comment to the last word ... pass\n",
      "*** immediate makes the LAST an immediate word ... pass\n",
      "*** compyle source code to function ... pass\n",
      "*** </pyV> based on </py> and on compyle ... pass\n",
      "*** interpret-only marks the last word an interpret-only word ... pass\n",
      "*** immediate marks the last word an immediate word ... pass\n",
      "*** compile-only marks last word as a compile-only word ... pass\n",
      "*** literal is a compiling comamnd that can improve run time performance ... pass\n",
      "*** (create) creates a new word ... pass\n",
      "*** ' (tick) gets word object ... pass\n",
      "*** \"drop\" drops the TOS ... pass\n",
      "*** here points to next available address ... pass\n",
      "*** version should return a floating point number ... pass\n",
      "*** (space) puts a 0x20 on TOS ... pass\n",
      "*** BL should return the string '\\s' literally ... pass\n",
      "*** CR should return the string \\n|\\r literally ... pass\n",
      "*** word reads \"string\" from TIB ... pass\n",
      "*** py> eval(pop()) should eval(tos) ... pass\n",
      "*** last should return the last word ... pass\n",
      "*** exit should stop a colon word ... pass\n",
      "*** (forget) forgets the last word ... pass\n",
      "*** begin ... again loop covers many things ... pass\n",
      "*** ! @ >r r> r@ drop dup swap over 0< ... pass\n",
      "*** ' tick and (') should return a word object ... pass\n",
      "*** bool and or not AND OR NOT XOR ... pass\n",
      "*** + * - / 1+ 2+ 1- 2- ... pass\n",
      "*** >> -1 signed right shift n times will be still -1 ... pass\n",
      "*** >> -4 signed right shift becomes -2 ... pass\n",
      "*** << -1 signed left shift 63 times become the smallest int number ... pass\n",
      "*** 0= 0<> 0> 0>= 0< 0<= ... pass\n",
      "*** == compares tos(1) and tos() after booleanized ... pass\n",
      "*** > < >= <= != != <> ... pass\n",
      "*** abs makes negative positive ... pass\n",
      "*** max min within ... pass\n",
      "*** doVar doNext ... pass\n",
      "*** pick 2 from 1 2 3 gets 1 2 3 1 ... pass\n",
      "*** roll 2 from 1 2 3 gets 2 3 1 ... pass\n",
      "*** [compile] compile [ ] ... pass\n",
      "*** alias should create a new word that acts same ... pass\n",
      "*** nip rot -rot 2drop 2dup invert negate within ... pass\n",
      "*** ['] tick next word immediately ... pass\n",
      "*** allot should consume some dictionary cells ... pass\n",
      "*** begin again , begin until ... pass\n",
      "*** aft for then next ahead begin while repeat ... pass\n",
      "*** ?dup dup only when it's True ... pass\n",
      "*** +! variable ... pass\n",
      "*** spaces chars ... pass\n",
      "*** .( ( .\" .' s\" s' s` ... pass\n",
      "*** count ... pass\n",
      "*** value and to work together ... pass\n",
      "*** <comment>...</comment> can be nested now ... pass\n",
      "*** constant value and to ... pass\n",
      "*** int 3.14 is 3, 12.34 is 12 ... pass\n",
      "*** drops n data stack cells ... ... pass\n",
      "*** dropall clean the data stack ... pass\n",
      "*** ASCII char>ASCII ASCII>char ... pass\n",
      "*** .s is probably the most frequently used word ... pass\n",
      "*** see (see) ... pass\n",
      "*** trim indent -indent ... pass\n",
      "*** py:~ py>~ ... pass\n",
      "*** here here! , ? allot ... pass\n",
      "*** create does> ... pass\n",
      "*** words help ... pass\n",
      "*** dict>keys dir type ... pass\n",
      "*** [if] [else] [then] [begin] [again] [until] [for] [next] ... pass\n",
      "*** du dump ... pass\n",
      "*** [r r] ... pass\n",
      "*** End of peforth.f self-test ... pass\n",
      "*** (pyclude) pyclude run ~.py file ... pass\n",
      "*** .members .source ... pass\n",
      "*** sign gets the + or - of the given number to 1 or -1 ... pass\n",
      "*** round-off ... pass\n",
      "*** txt2json ... pass\n",
      "*** dos shell to DOSbox or run DOS command ... pass\n"
     ]
    }
   ],
   "source": [
    "%run ../forth.py"
   ]
  },
  {
   "cell_type": "raw",
   "metadata": {},
   "source": [
    "!pip install datarobot\n",
    "!pip install seaborn"
   ]
  },
  {
   "cell_type": "code",
   "execution_count": 3,
   "metadata": {},
   "outputs": [],
   "source": [
    "import datarobot as dr \n",
    "import pandas as pd\n",
    "import numpy as np\n",
    "import matplotlib.pyplot as plt\n",
    "import seaborn as sns\n",
    "sns.set(style=\"whitegrid\")"
   ]
  },
  {
   "cell_type": "code",
   "execution_count": 4,
   "metadata": {
    "scrolled": true
   },
   "outputs": [
    {
     "data": {
      "text/html": [
       "<div>\n",
       "<style scoped>\n",
       "    .dataframe tbody tr th:only-of-type {\n",
       "        vertical-align: middle;\n",
       "    }\n",
       "\n",
       "    .dataframe tbody tr th {\n",
       "        vertical-align: top;\n",
       "    }\n",
       "\n",
       "    .dataframe thead th {\n",
       "        text-align: right;\n",
       "    }\n",
       "</style>\n",
       "<table border=\"1\" class=\"dataframe\">\n",
       "  <thead>\n",
       "    <tr style=\"text-align: right;\">\n",
       "      <th></th>\n",
       "      <th>Bleedout</th>\n",
       "      <th>底片長度</th>\n",
       "      <th>型態</th>\n",
       "      <th>機台ID</th>\n",
       "      <th>塗佈溫度</th>\n",
       "      <th>塗佈濕度</th>\n",
       "      <th>馬達壓力</th>\n",
       "      <th>乾燥溫度一</th>\n",
       "      <th>乾燥溫度二</th>\n",
       "      <th>UV暴露</th>\n",
       "      <th>照明時間</th>\n",
       "      <th>爐子O2</th>\n",
       "      <th>底片UV溫度</th>\n",
       "      <th>張力一</th>\n",
       "      <th>張力二</th>\n",
       "      <th>彎曲張力</th>\n",
       "      <th>EPC差異一</th>\n",
       "      <th>EPC差異二</th>\n",
       "      <th>缺陷Mode</th>\n",
       "    </tr>\n",
       "  </thead>\n",
       "  <tbody>\n",
       "    <tr>\n",
       "      <th>0</th>\n",
       "      <td>False</td>\n",
       "      <td>500m</td>\n",
       "      <td>Production</td>\n",
       "      <td>YC-08</td>\n",
       "      <td>27.36</td>\n",
       "      <td>50.2</td>\n",
       "      <td>0.9</td>\n",
       "      <td>120.00</td>\n",
       "      <td>122.00</td>\n",
       "      <td>1020.0</td>\n",
       "      <td>344</td>\n",
       "      <td>0.01017</td>\n",
       "      <td>89.03</td>\n",
       "      <td>4.981</td>\n",
       "      <td>2.397</td>\n",
       "      <td>3.102</td>\n",
       "      <td>0.072875</td>\n",
       "      <td>0.075678</td>\n",
       "      <td>0</td>\n",
       "    </tr>\n",
       "    <tr>\n",
       "      <th>1</th>\n",
       "      <td>False</td>\n",
       "      <td>500m</td>\n",
       "      <td>Production</td>\n",
       "      <td>YC-08</td>\n",
       "      <td>27.25</td>\n",
       "      <td>51.1</td>\n",
       "      <td>0.9</td>\n",
       "      <td>120.47</td>\n",
       "      <td>122.00</td>\n",
       "      <td>1021.3</td>\n",
       "      <td>2079</td>\n",
       "      <td>0.01247</td>\n",
       "      <td>89.07</td>\n",
       "      <td>2.980</td>\n",
       "      <td>3.081</td>\n",
       "      <td>3.184</td>\n",
       "      <td>0.021427</td>\n",
       "      <td>0.041128</td>\n",
       "      <td>0</td>\n",
       "    </tr>\n",
       "    <tr>\n",
       "      <th>2</th>\n",
       "      <td>False</td>\n",
       "      <td>1500m</td>\n",
       "      <td>Prototype</td>\n",
       "      <td>YC-08</td>\n",
       "      <td>27.57</td>\n",
       "      <td>50.3</td>\n",
       "      <td>0.9</td>\n",
       "      <td>120.05</td>\n",
       "      <td>122.05</td>\n",
       "      <td>1020.2</td>\n",
       "      <td>431</td>\n",
       "      <td>0.01052</td>\n",
       "      <td>89.02</td>\n",
       "      <td>1.786</td>\n",
       "      <td>4.684</td>\n",
       "      <td>3.116</td>\n",
       "      <td>0.081048</td>\n",
       "      <td>0.097389</td>\n",
       "      <td>0</td>\n",
       "    </tr>\n",
       "    <tr>\n",
       "      <th>3</th>\n",
       "      <td>False</td>\n",
       "      <td>1000m</td>\n",
       "      <td>Production</td>\n",
       "      <td>YC-08</td>\n",
       "      <td>28.50</td>\n",
       "      <td>50.9</td>\n",
       "      <td>0.9</td>\n",
       "      <td>120.14</td>\n",
       "      <td>122.00</td>\n",
       "      <td>1020.3</td>\n",
       "      <td>1343</td>\n",
       "      <td>0.01160</td>\n",
       "      <td>89.05</td>\n",
       "      <td>4.068</td>\n",
       "      <td>2.574</td>\n",
       "      <td>3.135</td>\n",
       "      <td>-0.265027</td>\n",
       "      <td>0.072084</td>\n",
       "      <td>0</td>\n",
       "    </tr>\n",
       "    <tr>\n",
       "      <th>4</th>\n",
       "      <td>False</td>\n",
       "      <td>1200m</td>\n",
       "      <td>Production</td>\n",
       "      <td>YC-08</td>\n",
       "      <td>28.66</td>\n",
       "      <td>50.8</td>\n",
       "      <td>0.9</td>\n",
       "      <td>120.29</td>\n",
       "      <td>122.29</td>\n",
       "      <td>1020.6</td>\n",
       "      <td>1263</td>\n",
       "      <td>0.01138</td>\n",
       "      <td>89.05</td>\n",
       "      <td>2.599</td>\n",
       "      <td>2.665</td>\n",
       "      <td>3.153</td>\n",
       "      <td>0.156794</td>\n",
       "      <td>0.115800</td>\n",
       "      <td>0</td>\n",
       "    </tr>\n",
       "  </tbody>\n",
       "</table>\n",
       "</div>"
      ],
      "text/plain": [
       "   Bleedout   底片長度          型態   機台ID   塗佈溫度  塗佈濕度  馬達壓力   乾燥溫度一   乾燥溫度二  \\\n",
       "0     False   500m  Production  YC-08  27.36  50.2   0.9  120.00  122.00   \n",
       "1     False   500m  Production  YC-08  27.25  51.1   0.9  120.47  122.00   \n",
       "2     False  1500m   Prototype  YC-08  27.57  50.3   0.9  120.05  122.05   \n",
       "3     False  1000m  Production  YC-08  28.50  50.9   0.9  120.14  122.00   \n",
       "4     False  1200m  Production  YC-08  28.66  50.8   0.9  120.29  122.29   \n",
       "\n",
       "     UV暴露  照明時間     爐子O2  底片UV溫度    張力一    張力二   彎曲張力    EPC差異一    EPC差異二  \\\n",
       "0  1020.0   344  0.01017   89.03  4.981  2.397  3.102  0.072875  0.075678   \n",
       "1  1021.3  2079  0.01247   89.07  2.980  3.081  3.184  0.021427  0.041128   \n",
       "2  1020.2   431  0.01052   89.02  1.786  4.684  3.116  0.081048  0.097389   \n",
       "3  1020.3  1343  0.01160   89.05  4.068  2.574  3.135 -0.265027  0.072084   \n",
       "4  1020.6  1263  0.01138   89.05  2.599  2.665  3.153  0.156794  0.115800   \n",
       "\n",
       "   缺陷Mode  \n",
       "0       0  \n",
       "1       0  \n",
       "2       0  \n",
       "3       0  \n",
       "4       0  "
      ]
     },
     "execution_count": 4,
     "metadata": {},
     "output_type": "execute_result"
    }
   ],
   "source": [
    "df = pd.read_csv('DataRobot_Case1.csv')\n",
    "df.head()"
   ]
  },
  {
   "cell_type": "code",
   "execution_count": 5,
   "metadata": {},
   "outputs": [
    {
     "data": {
      "text/plain": [
       "<datarobot.rest.RESTClientObject at 0x21396be12b0>"
      ]
     },
     "execution_count": 5,
     "metadata": {},
     "output_type": "execute_result"
    }
   ],
   "source": [
    "endpoint = 'https://app.datarobot.com/api/v2'\n",
    "api_token = 'NjBiNzQzMzA3NWVkNjdhNjhjM2M4Y2RkOkZSS0RTL1lYaUE1WWRZbU5Ka1gwb1YvM3lHTmc3ZVByeXErUGo0SmZpOHc9'\n",
    "dr.Client(token=api_token, endpoint=endpoint)\n"
   ]
  },
  {
   "cell_type": "code",
   "execution_count": 5,
   "metadata": {},
   "outputs": [],
   "source": [
    "# 這一步過了好久，上網頁查看，發現 DataRobot_APITraining 已經建立起來了，再過一會兒發現這裡也好了。\n",
    "# 重複做會重複 create 同名 project 所以要研究如何開舊的？\n",
    "project = dr.Project.create(df, project_name = 'DataRobot_APITraining')"
   ]
  },
  {
   "cell_type": "code",
   "execution_count": 10,
   "metadata": {},
   "outputs": [
    {
     "data": {
      "text/plain": [
       "Project(DataRobot_APITraining)"
      ]
     },
     "execution_count": 10,
     "metadata": {},
     "output_type": "execute_result"
    }
   ],
   "source": [
    "# 這 cell 一跑，從網頁上看真的就像 Start 被按了一樣，\n",
    "project.set_target(\n",
    "    target = 'Bleedout',\n",
    "    worker_count = 4,\n",
    "    mode = dr.AUTOPILOT_MODE.FULL_AUTO)"
   ]
  },
  {
   "cell_type": "code",
   "execution_count": 11,
   "metadata": {},
   "outputs": [
    {
     "name": "stdout",
     "output_type": "stream",
     "text": [
      "Model('Advanced AVG Blender')\n"
     ]
    },
    {
     "data": {
      "text/plain": [
       "0.57614"
      ]
     },
     "execution_count": 11,
     "metadata": {},
     "output_type": "execute_result"
    }
   ],
   "source": [
    "best_model = project.get_models()[0]\n",
    "print(best_model)\n",
    "best_model.metrics['LogLoss']['validation']\n"
   ]
  },
  {
   "cell_type": "code",
   "execution_count": 15,
   "metadata": {},
   "outputs": [],
   "source": []
  },
  {
   "cell_type": "code",
   "execution_count": null,
   "metadata": {},
   "outputs": [],
   "source": []
  }
 ],
 "metadata": {
  "kernelspec": {
   "display_name": "Python 3 (ipykernel)",
   "language": "python",
   "name": "python3"
  },
  "language_info": {
   "codemirror_mode": {
    "name": "ipython",
    "version": 3
   },
   "file_extension": ".py",
   "mimetype": "text/x-python",
   "name": "python",
   "nbconvert_exporter": "python",
   "pygments_lexer": "ipython3",
   "version": "3.8.8"
  }
 },
 "nbformat": 4,
 "nbformat_minor": 4
}
