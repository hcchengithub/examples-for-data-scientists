{
 "cells": [
  {
   "cell_type": "code",
   "execution_count": 1,
   "metadata": {
    "scrolled": true
   },
   "outputs": [
    {
     "name": "stdout",
     "output_type": "stream",
     "text": [
      "reDef unknown\n",
      "reDef -->\n",
      "p e f o r t h    v1.26\n",
      "source code http://github.com/hcchengithub/peforth\n",
      "Type 'peforth.ok()' to enter forth interpreter, 'exit' to come back.\n",
      "\n"
     ]
    }
   ],
   "source": [
    "%run ../forth.py"
   ]
  },
  {
   "cell_type": "code",
   "execution_count": 2,
   "metadata": {},
   "outputs": [],
   "source": [
    "import datarobot as dr "
   ]
  },
  {
   "cell_type": "code",
   "execution_count": 3,
   "metadata": {},
   "outputs": [],
   "source": [
    "import pandas as pd\n",
    "import numpy as np\n",
    "import math"
   ]
  },
  {
   "cell_type": "code",
   "execution_count": 4,
   "metadata": {},
   "outputs": [
    {
     "data": {
      "text/plain": [
       "<datarobot.rest.RESTClientObject at 0x20c8da55c48>"
      ]
     },
     "execution_count": 4,
     "metadata": {},
     "output_type": "execute_result"
    }
   ],
   "source": [
    "dr.Client(token=peforth.execute('api_token').pop(), endpoint=peforth.execute('endpoint').pop())"
   ]
  },
  {
   "cell_type": "code",
   "execution_count": 10,
   "metadata": {},
   "outputs": [
    {
     "name": "stdout",
     "output_type": "stream",
     "text": [
      "project --> Project(hubble2 component) (<class 'datarobot.models.project.Project'>)\n"
     ]
    }
   ],
   "source": [
    "# 用片段 project name 找回 project\n",
    "%f dropall dr :>~ Project.list(search_params={'project_name':'hubble2 component'})\n",
    "project = peforth.pop()[0]\n",
    "%f project -->"
   ]
  },
  {
   "cell_type": "code",
   "execution_count": 11,
   "metadata": {},
   "outputs": [
    {
     "data": {
      "text/plain": [
       "[Featurelist(Raw Features),\n",
       " Featurelist(Informative Features),\n",
       " Featurelist(hubble2 severity classifier),\n",
       " Featurelist(hubble2 severity classifier 6),\n",
       " Featurelist(hubble2 severity classifier 5),\n",
       " Featurelist(hubble2 severity classifier 4),\n",
       " Featurelist(hubble2 severity classifier 3),\n",
       " Featurelist(hubble2 severity classifier 2)]"
      ]
     },
     "execution_count": 11,
     "metadata": {},
     "output_type": "execute_result"
    }
   ],
   "source": [
    "project.get_featurelists()"
   ]
  },
  {
   "cell_type": "code",
   "execution_count": 12,
   "metadata": {},
   "outputs": [
    {
     "name": "stdout",
     "output_type": "stream",
     "text": [
      "featurelist :> name --> Raw Features (<class 'str'>)\n",
      "featurelist :> features --> ['Customer', 'bugid', 'ProjectName', 'Creator', 'OpenDate', 'Subject', 'Severity', 'owner', 'Status', 'Description', 'RootCause', 'AffectedComponent', 'CustomerPhase', 'CloseDate', 'LastUpdate', 'GeneralComponentType', 'GeneralSeverity', 'GeneralStatus'] (<class 'list'>)\n"
     ]
    }
   ],
   "source": [
    "featurelist = project.get_featurelists()[0]\n",
    "%f featurelist :> name -->\n",
    "%f featurelist :> features -->"
   ]
  },
  {
   "cell_type": "code",
   "execution_count": 14,
   "metadata": {},
   "outputs": [],
   "source": [
    "# 精挑 feature list 跑跑看\n",
    "featurelist = project.create_featurelist(\n",
    "    'hubble2 component 1', \n",
    "    ['Customer', 'Subject', 'Description', 'Creator', 'owner', 'RootCause', 'CustomerPhase'])"
   ]
  },
  {
   "cell_type": "code",
   "execution_count": 15,
   "metadata": {},
   "outputs": [
    {
     "name": "stdout",
     "output_type": "stream",
     "text": [
      "featurelist --> Featurelist(hubble2 component 1) (<class 'datarobot.models.featurelist.Featurelist'>)\n"
     ]
    }
   ],
   "source": [
    "%f featurelist -->"
   ]
  },
  {
   "cell_type": "code",
   "execution_count": 17,
   "metadata": {},
   "outputs": [
    {
     "name": "stdout",
     "output_type": "stream",
     "text": [
      "In progress: 7, queued: 0 (waited: 0s)\n",
      "In progress: 7, queued: 0 (waited: 4s)\n",
      "In progress: 7, queued: 0 (waited: 7s)\n",
      "In progress: 7, queued: 0 (waited: 10s)\n",
      "In progress: 7, queued: 0 (waited: 12s)\n",
      "In progress: 7, queued: 0 (waited: 16s)\n",
      "In progress: 7, queued: 0 (waited: 21s)\n",
      "In progress: 7, queued: 0 (waited: 29s)\n",
      "In progress: 2, queued: 0 (waited: 44s)\n",
      "In progress: 16, queued: 0 (waited: 68s)\n",
      "In progress: 10, queued: 0 (waited: 92s)\n",
      "In progress: 1, queued: 0 (waited: 114s)\n",
      "In progress: 1, queued: 0 (waited: 136s)\n",
      "In progress: 0, queued: 0 (waited: 159s)\n",
      "In progress: 0, queued: 0 (waited: 181s)\n",
      "In progress: 0, queued: 0 (waited: 203s)\n",
      "In progress: 0, queued: 0 (waited: 225s)\n",
      "In progress: 0, queued: 0 (waited: 247s)\n",
      "In progress: 0, queued: 0 (waited: 270s)\n",
      "In progress: 5, queued: 0 (waited: 292s)\n",
      "In progress: 1, queued: 0 (waited: 314s)\n",
      "In progress: 1, queued: 0 (waited: 340s)\n",
      "In progress: 1, queued: 0 (waited: 362s)\n",
      "In progress: 1, queued: 0 (waited: 383s)\n",
      "In progress: 1, queued: 0 (waited: 405s)\n",
      "In progress: 1, queued: 0 (waited: 427s)\n",
      "In progress: 0, queued: 0 (waited: 448s)\n",
      "In progress: 0, queued: 0 (waited: 470s)\n",
      "In progress: 0, queued: 0 (waited: 492s)\n",
      "In progress: 0, queued: 0 (waited: 513s)\n",
      "In progress: 0, queued: 0 (waited: 537s)\n",
      "In progress: 0, queued: 0 (waited: 561s)\n",
      "In progress: 0, queued: 0 (waited: 583s)\n"
     ]
    }
   ],
   "source": [
    "project.set_target(  \n",
    "    target='GeneralComponentType',\n",
    "    worker_count = '-1', \n",
    "    mode=dr.AUTOPILOT_MODE.QUICK,\n",
    "    featurelist_id=featurelist.id\n",
    ")\n",
    "project.wait_for_autopilot()  # Wait for autopilot to complete\n"
   ]
  },
  {
   "cell_type": "code",
   "execution_count": null,
   "metadata": {},
   "outputs": [],
   "source": []
  },
  {
   "cell_type": "code",
   "execution_count": null,
   "metadata": {},
   "outputs": [],
   "source": []
  },
  {
   "cell_type": "code",
   "execution_count": null,
   "metadata": {},
   "outputs": [],
   "source": []
  },
  {
   "cell_type": "code",
   "execution_count": null,
   "metadata": {},
   "outputs": [],
   "source": []
  },
  {
   "cell_type": "code",
   "execution_count": null,
   "metadata": {},
   "outputs": [],
   "source": [
    "? project.set_target"
   ]
  },
  {
   "cell_type": "code",
   "execution_count": null,
   "metadata": {},
   "outputs": [],
   "source": [
    "project.start_autopilot(featurelist.id)\n",
    "project.wait_for_autopilot()  # Wait for autopilot to complete"
   ]
  },
  {
   "cell_type": "code",
   "execution_count": null,
   "metadata": {},
   "outputs": [],
   "source": []
  }
 ],
 "metadata": {
  "kernelspec": {
   "display_name": "Python 3",
   "language": "python",
   "name": "python3"
  },
  "language_info": {
   "codemirror_mode": {
    "name": "ipython",
    "version": 3
   },
   "file_extension": ".py",
   "mimetype": "text/x-python",
   "name": "python",
   "nbconvert_exporter": "python",
   "pygments_lexer": "ipython3",
   "version": "3.7.5"
  }
 },
 "nbformat": 4,
 "nbformat_minor": 4
}
