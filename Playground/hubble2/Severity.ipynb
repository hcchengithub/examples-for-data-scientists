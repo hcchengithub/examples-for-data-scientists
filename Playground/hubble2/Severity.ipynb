{
 "cells": [
  {
   "cell_type": "markdown",
   "metadata": {},
   "source": [
    "# 用 DataRobot 分析 Hubble2 自動標註 Severity "
   ]
  },
  {
   "cell_type": "code",
   "execution_count": 1,
   "metadata": {
    "scrolled": true
   },
   "outputs": [
    {
     "name": "stdout",
     "output_type": "stream",
     "text": [
      "reDef unknown\n",
      "reDef -->\n",
      "p e f o r t h    v1.26\n",
      "source code http://github.com/hcchengithub/peforth\n",
      "Type 'peforth.ok()' to enter forth interpreter, 'exit' to come back.\n",
      "\n"
     ]
    }
   ],
   "source": [
    "%run ../../forth.py"
   ]
  },
  {
   "cell_type": "code",
   "execution_count": 2,
   "metadata": {},
   "outputs": [],
   "source": [
    "import datarobot as dr \n",
    "import pandas as pd"
   ]
  },
  {
   "cell_type": "code",
   "execution_count": 3,
   "metadata": {},
   "outputs": [
    {
     "data": {
      "text/plain": [
       "<datarobot.rest.RESTClientObject at 0x18d1f992408>"
      ]
     },
     "execution_count": 3,
     "metadata": {},
     "output_type": "execute_result"
    }
   ],
   "source": [
    "dr.Client(token=peforth.execute('api_token').pop(), endpoint=peforth.execute('endpoint').pop())"
   ]
  },
  {
   "cell_type": "code",
   "execution_count": 5,
   "metadata": {},
   "outputs": [
    {
     "data": {
      "text/plain": [
       "[Project(hubble2 component), Project(hubble2-2019-9.xlsx)]"
      ]
     },
     "execution_count": 5,
     "metadata": {},
     "output_type": "execute_result"
    }
   ],
   "source": [
    "# 用片段 project name 找回 project\n",
    "projects = dr.Project.list(search_params={'project_name':'hubble2'})\n",
    "projects"
   ]
  },
  {
   "cell_type": "code",
   "execution_count": 8,
   "metadata": {},
   "outputs": [
    {
     "name": "stdout",
     "output_type": "stream",
     "text": [
      "project_id --> 60f4df3ce7b7eea04ee9d832 (<class 'str'>)\n",
      "project --> Project(hubble2-2019-9.xlsx) (<class 'datarobot.models.project.Project'>)\n",
      "project :> target --> GeneralSeverity (<class 'str'>)\n"
     ]
    }
   ],
   "source": [
    "project = projects[1]\n",
    "%f project_id -->\n",
    "%f project -->\n",
    "%f project :> target -->"
   ]
  },
  {
   "cell_type": "code",
   "execution_count": 9,
   "metadata": {},
   "outputs": [
    {
     "name": "stdout",
     "output_type": "stream",
     "text": [
      "project :> file_name --> hubble2-2019-9.xlsx (<class 'str'>)\n"
     ]
    },
    {
     "name": "stderr",
     "output_type": "stream",
     "text": [
      "C:\\Users\\8304018\\AppData\\Local\\Continuum\\anaconda3\\envs\\peforthDevelop\\lib\\site-packages\\ipykernel_launcher.py:5: FutureWarning: Your version of xlrd is 1.2.0. In xlrd >= 2.0, only the xls format is supported. As a result, the openpyxl engine will be used if it is installed and the engine argument is not specified. Install openpyxl instead.\n",
      "  \"\"\"\n"
     ]
    },
    {
     "data": {
      "text/html": [
       "<div>\n",
       "<style scoped>\n",
       "    .dataframe tbody tr th:only-of-type {\n",
       "        vertical-align: middle;\n",
       "    }\n",
       "\n",
       "    .dataframe tbody tr th {\n",
       "        vertical-align: top;\n",
       "    }\n",
       "\n",
       "    .dataframe thead th {\n",
       "        text-align: right;\n",
       "    }\n",
       "</style>\n",
       "<table border=\"1\" class=\"dataframe\">\n",
       "  <thead>\n",
       "    <tr style=\"text-align: right;\">\n",
       "      <th></th>\n",
       "      <th>Customer</th>\n",
       "      <th>bugid</th>\n",
       "      <th>ProjectName</th>\n",
       "      <th>Creator</th>\n",
       "      <th>OpenDate</th>\n",
       "      <th>Subject</th>\n",
       "      <th>Severity</th>\n",
       "      <th>owner</th>\n",
       "      <th>Status</th>\n",
       "      <th>Description</th>\n",
       "      <th>RootCause</th>\n",
       "      <th>AffectedComponent</th>\n",
       "      <th>CustomerPhase</th>\n",
       "      <th>CloseDate</th>\n",
       "      <th>LastUpdate</th>\n",
       "      <th>GeneralComponentType</th>\n",
       "      <th>GeneralSeverity</th>\n",
       "      <th>GeneralStatus</th>\n",
       "    </tr>\n",
       "  </thead>\n",
       "  <tbody>\n",
       "    <tr>\n",
       "      <th>0</th>\n",
       "      <td>Annie</td>\n",
       "      <td>177289</td>\n",
       "      <td>Strongbow_CM</td>\n",
       "      <td>Emily_Xu@wistron.com</td>\n",
       "      <td>2019-09-05 14:00:00</td>\n",
       "      <td>[QT], [Acer][MDA_Upgrade_19H2][UPGR2]\"Microsof...</td>\n",
       "      <td>2</td>\n",
       "      <td>Alice_Shih@wistron.com</td>\n",
       "      <td>Future Release</td>\n",
       "      <td>[QT], [Acer][MDA_Upgrade_19H2][UPGR2]\"Microsof...</td>\n",
       "      <td>19H2 common issue, MSFT bug ID: 234291. They s...</td>\n",
       "      <td>[SW] OS</td>\n",
       "      <td>NaN</td>\n",
       "      <td>1900-01-01 00:00:00</td>\n",
       "      <td>2019-09-10 11:34:00</td>\n",
       "      <td>SW_OS</td>\n",
       "      <td>2</td>\n",
       "      <td>Closed</td>\n",
       "    </tr>\n",
       "    <tr>\n",
       "      <th>1</th>\n",
       "      <td>Annie</td>\n",
       "      <td>177271</td>\n",
       "      <td>vMocha</td>\n",
       "      <td>Joseph.Hsu@acer.com</td>\n",
       "      <td>2019-09-04 15:30:00</td>\n",
       "      <td>ECFW v006 package is not follow \"ECFW package ...</td>\n",
       "      <td>2</td>\n",
       "      <td>Rossi_Lin@wistron.com</td>\n",
       "      <td>Closed</td>\n",
       "      <td>ECFW v006 package is not follow \"ECFW package ...</td>\n",
       "      <td>need change to formal release EC package</td>\n",
       "      <td>[FW] EC</td>\n",
       "      <td>NaN</td>\n",
       "      <td>2019-09-11 14:33:48</td>\n",
       "      <td>2019-09-11 14:33:48</td>\n",
       "      <td>FW</td>\n",
       "      <td>2</td>\n",
       "      <td>Closed</td>\n",
       "    </tr>\n",
       "    <tr>\n",
       "      <th>2</th>\n",
       "      <td>Annie</td>\n",
       "      <td>177296</td>\n",
       "      <td>vMocha</td>\n",
       "      <td>Valen_Chou@wistron.com</td>\n",
       "      <td>2019-09-05 15:52:00</td>\n",
       "      <td>Preload bundle PowerDVD can't play BD.</td>\n",
       "      <td>2</td>\n",
       "      <td>Park_Liao@wistron.com</td>\n",
       "      <td>Closed</td>\n",
       "      <td>Preload bundle PowerDVD can't play BD.</td>\n",
       "      <td>It's normal not having BD licence in Acer Cybe...</td>\n",
       "      <td>[SW] Application</td>\n",
       "      <td>NaN</td>\n",
       "      <td>2019-09-10 14:58:59</td>\n",
       "      <td>2019-09-10 14:58:59</td>\n",
       "      <td>SW_Application</td>\n",
       "      <td>2</td>\n",
       "      <td>Closed</td>\n",
       "    </tr>\n",
       "    <tr>\n",
       "      <th>3</th>\n",
       "      <td>Annie</td>\n",
       "      <td>177297</td>\n",
       "      <td>vMocha</td>\n",
       "      <td>Valen_Chou@wistron.com</td>\n",
       "      <td>2019-09-05 15:57:00</td>\n",
       "      <td>Acer Office Manager Console doesn't show in st...</td>\n",
       "      <td>2</td>\n",
       "      <td>Park_Liao@wistron.com</td>\n",
       "      <td>Closed</td>\n",
       "      <td>Acer Office Manager Console doesn't show in st...</td>\n",
       "      <td>Use wrong install method.</td>\n",
       "      <td>[SW] Application</td>\n",
       "      <td>NaN</td>\n",
       "      <td>2019-09-11 14:32:02</td>\n",
       "      <td>2019-09-11 14:32:02</td>\n",
       "      <td>SW_Application</td>\n",
       "      <td>2</td>\n",
       "      <td>Closed</td>\n",
       "    </tr>\n",
       "    <tr>\n",
       "      <th>4</th>\n",
       "      <td>Annie</td>\n",
       "      <td>177303</td>\n",
       "      <td>vMocha</td>\n",
       "      <td>Valen_Chou@wistron.com</td>\n",
       "      <td>2019-09-05 17:02:00</td>\n",
       "      <td>NV GT720 play MPEG 4 video is not smoothly whe...</td>\n",
       "      <td>2</td>\n",
       "      <td>Bret_Sagan@wistron.com</td>\n",
       "      <td>Closed</td>\n",
       "      <td>NV GT720 play MPEG 4 video is not smoothly whe...</td>\n",
       "      <td>Check with PC partner and NVidia, this is expe...</td>\n",
       "      <td>[Driver] VGA</td>\n",
       "      <td>NaN</td>\n",
       "      <td>2019-09-17 15:02:07</td>\n",
       "      <td>2019-09-17 15:02:07</td>\n",
       "      <td>SW_Driver</td>\n",
       "      <td>2</td>\n",
       "      <td>Closed</td>\n",
       "    </tr>\n",
       "    <tr>\n",
       "      <th>...</th>\n",
       "      <td>...</td>\n",
       "      <td>...</td>\n",
       "      <td>...</td>\n",
       "      <td>...</td>\n",
       "      <td>...</td>\n",
       "      <td>...</td>\n",
       "      <td>...</td>\n",
       "      <td>...</td>\n",
       "      <td>...</td>\n",
       "      <td>...</td>\n",
       "      <td>...</td>\n",
       "      <td>...</td>\n",
       "      <td>...</td>\n",
       "      <td>...</td>\n",
       "      <td>...</td>\n",
       "      <td>...</td>\n",
       "      <td>...</td>\n",
       "      <td>...</td>\n",
       "    </tr>\n",
       "    <tr>\n",
       "      <th>954</th>\n",
       "      <td>UTS</td>\n",
       "      <td>BA5704</td>\n",
       "      <td>LENNY_IL</td>\n",
       "      <td>Zhijia Duan</td>\n",
       "      <td>2019-09-27 13:42:08</td>\n",
       "      <td>QT,LAB, OS not show charge change when plug in...</td>\n",
       "      <td>2</td>\n",
       "      <td>Nicole Chang/WHQ/Wistron</td>\n",
       "      <td>Verify</td>\n",
       "      <td>TextModea. Enter OS and plug in AC and type-C ...</td>\n",
       "      <td>TextModea. Enter OS and plug in AC and type-C ...</td>\n",
       "      <td>rd_sw</td>\n",
       "      <td>NaN</td>\n",
       "      <td>1900-01-01 00:00:00</td>\n",
       "      <td>2019-10-23 14:02:18</td>\n",
       "      <td>SW</td>\n",
       "      <td>2</td>\n",
       "      <td>Verify</td>\n",
       "    </tr>\n",
       "    <tr>\n",
       "      <th>955</th>\n",
       "      <td>UTS</td>\n",
       "      <td>BA5705</td>\n",
       "      <td>LENNY_IL</td>\n",
       "      <td>Zhijia Duan</td>\n",
       "      <td>2019-09-27 13:43:42</td>\n",
       "      <td>QT,LAB, Battery Level only remain 74% when con...</td>\n",
       "      <td>2</td>\n",
       "      <td>Brown Chen/WHQ/Wistron</td>\n",
       "      <td>Closed</td>\n",
       "      <td>TextModea. Enter OS and plug in AC and type-C ...</td>\n",
       "      <td>TextModea. Enter OS and plug in AC and type-C ...</td>\n",
       "      <td>rd_hw_power</td>\n",
       "      <td>NaN</td>\n",
       "      <td>2019-10-22 14:30:44</td>\n",
       "      <td>2019-10-22 14:30:44</td>\n",
       "      <td>HW</td>\n",
       "      <td>2</td>\n",
       "      <td>Closed</td>\n",
       "    </tr>\n",
       "    <tr>\n",
       "      <th>956</th>\n",
       "      <td>UTS</td>\n",
       "      <td>BA5706</td>\n",
       "      <td>LENNY_IL</td>\n",
       "      <td>Zhijia Duan</td>\n",
       "      <td>2019-09-27 13:44:57</td>\n",
       "      <td>QT,LAB, SanDisk Extreme900 SSD will recognise ...</td>\n",
       "      <td>2</td>\n",
       "      <td>Nicole Chang/WHQ/Wistron</td>\n",
       "      <td>Closed</td>\n",
       "      <td>TextModea. Enter OS and connect SanDisk Extrem...</td>\n",
       "      <td>TextModea. Enter OS and connect SanDisk Extrem...</td>\n",
       "      <td>rd_sw_bios</td>\n",
       "      <td>NaN</td>\n",
       "      <td>2019-10-09 10:16:16</td>\n",
       "      <td>2019-10-09 10:16:16</td>\n",
       "      <td>SW_BIOS</td>\n",
       "      <td>2</td>\n",
       "      <td>Closed</td>\n",
       "    </tr>\n",
       "    <tr>\n",
       "      <th>957</th>\n",
       "      <td>UTS</td>\n",
       "      <td>BA5707</td>\n",
       "      <td>LENNY_IL</td>\n",
       "      <td>Zhijia Duan</td>\n",
       "      <td>2019-09-27 13:46:18</td>\n",
       "      <td>QT,LAB, SanDisk Extreme900 SSD can't recognise...</td>\n",
       "      <td>2</td>\n",
       "      <td>Nicole Chang/WHQ/Wistron</td>\n",
       "      <td>Closed</td>\n",
       "      <td>TextModea. Enter OS and connect SanDisk Extrem...</td>\n",
       "      <td>TextModea. Enter OS and connect SanDisk Extrem...</td>\n",
       "      <td>rd_sw_bios</td>\n",
       "      <td>NaN</td>\n",
       "      <td>2019-10-09 10:15:17</td>\n",
       "      <td>2019-10-09 10:15:17</td>\n",
       "      <td>SW_BIOS</td>\n",
       "      <td>2</td>\n",
       "      <td>Closed</td>\n",
       "    </tr>\n",
       "    <tr>\n",
       "      <th>958</th>\n",
       "      <td>UTS</td>\n",
       "      <td>BA5486</td>\n",
       "      <td>STRONGBOW_CM</td>\n",
       "      <td>Emily Xu</td>\n",
       "      <td>2019-09-02 10:47:01</td>\n",
       "      <td>18362, System will return to F12 boot menu whe...</td>\n",
       "      <td>2</td>\n",
       "      <td>Alice Shih</td>\n",
       "      <td>Open</td>\n",
       "      <td>TextModea. Boot to bios with connected PXE ser...</td>\n",
       "      <td>TextModea. Boot to bios with connected PXE ser...</td>\n",
       "      <td>rd_sw_bios</td>\n",
       "      <td>NaN</td>\n",
       "      <td>1900-01-01 00:00:00</td>\n",
       "      <td>2019-09-02 10:47:04</td>\n",
       "      <td>SW_BIOS</td>\n",
       "      <td>2</td>\n",
       "      <td>Open</td>\n",
       "    </tr>\n",
       "  </tbody>\n",
       "</table>\n",
       "<p>959 rows × 18 columns</p>\n",
       "</div>"
      ],
      "text/plain": [
       "    Customer   bugid   ProjectName                 Creator  \\\n",
       "0      Annie  177289  Strongbow_CM    Emily_Xu@wistron.com   \n",
       "1      Annie  177271        vMocha     Joseph.Hsu@acer.com   \n",
       "2      Annie  177296        vMocha  Valen_Chou@wistron.com   \n",
       "3      Annie  177297        vMocha  Valen_Chou@wistron.com   \n",
       "4      Annie  177303        vMocha  Valen_Chou@wistron.com   \n",
       "..       ...     ...           ...                     ...   \n",
       "954      UTS  BA5704      LENNY_IL             Zhijia Duan   \n",
       "955      UTS  BA5705      LENNY_IL             Zhijia Duan   \n",
       "956      UTS  BA5706      LENNY_IL             Zhijia Duan   \n",
       "957      UTS  BA5707      LENNY_IL             Zhijia Duan   \n",
       "958      UTS  BA5486  STRONGBOW_CM                Emily Xu   \n",
       "\n",
       "               OpenDate                                            Subject  \\\n",
       "0   2019-09-05 14:00:00  [QT], [Acer][MDA_Upgrade_19H2][UPGR2]\"Microsof...   \n",
       "1   2019-09-04 15:30:00  ECFW v006 package is not follow \"ECFW package ...   \n",
       "2   2019-09-05 15:52:00             Preload bundle PowerDVD can't play BD.   \n",
       "3   2019-09-05 15:57:00  Acer Office Manager Console doesn't show in st...   \n",
       "4   2019-09-05 17:02:00  NV GT720 play MPEG 4 video is not smoothly whe...   \n",
       "..                  ...                                                ...   \n",
       "954 2019-09-27 13:42:08  QT,LAB, OS not show charge change when plug in...   \n",
       "955 2019-09-27 13:43:42  QT,LAB, Battery Level only remain 74% when con...   \n",
       "956 2019-09-27 13:44:57  QT,LAB, SanDisk Extreme900 SSD will recognise ...   \n",
       "957 2019-09-27 13:46:18  QT,LAB, SanDisk Extreme900 SSD can't recognise...   \n",
       "958 2019-09-02 10:47:01  18362, System will return to F12 boot menu whe...   \n",
       "\n",
       "    Severity                     owner          Status  \\\n",
       "0          2    Alice_Shih@wistron.com  Future Release   \n",
       "1          2     Rossi_Lin@wistron.com          Closed   \n",
       "2          2     Park_Liao@wistron.com          Closed   \n",
       "3          2     Park_Liao@wistron.com          Closed   \n",
       "4          2    Bret_Sagan@wistron.com          Closed   \n",
       "..       ...                       ...             ...   \n",
       "954        2  Nicole Chang/WHQ/Wistron          Verify   \n",
       "955        2    Brown Chen/WHQ/Wistron          Closed   \n",
       "956        2  Nicole Chang/WHQ/Wistron          Closed   \n",
       "957        2  Nicole Chang/WHQ/Wistron          Closed   \n",
       "958        2                Alice Shih            Open   \n",
       "\n",
       "                                           Description  \\\n",
       "0    [QT], [Acer][MDA_Upgrade_19H2][UPGR2]\"Microsof...   \n",
       "1    ECFW v006 package is not follow \"ECFW package ...   \n",
       "2               Preload bundle PowerDVD can't play BD.   \n",
       "3    Acer Office Manager Console doesn't show in st...   \n",
       "4    NV GT720 play MPEG 4 video is not smoothly whe...   \n",
       "..                                                 ...   \n",
       "954  TextModea. Enter OS and plug in AC and type-C ...   \n",
       "955  TextModea. Enter OS and plug in AC and type-C ...   \n",
       "956  TextModea. Enter OS and connect SanDisk Extrem...   \n",
       "957  TextModea. Enter OS and connect SanDisk Extrem...   \n",
       "958  TextModea. Boot to bios with connected PXE ser...   \n",
       "\n",
       "                                             RootCause AffectedComponent  \\\n",
       "0    19H2 common issue, MSFT bug ID: 234291. They s...           [SW] OS   \n",
       "1             need change to formal release EC package           [FW] EC   \n",
       "2    It's normal not having BD licence in Acer Cybe...  [SW] Application   \n",
       "3                            Use wrong install method.  [SW] Application   \n",
       "4    Check with PC partner and NVidia, this is expe...      [Driver] VGA   \n",
       "..                                                 ...               ...   \n",
       "954  TextModea. Enter OS and plug in AC and type-C ...             rd_sw   \n",
       "955  TextModea. Enter OS and plug in AC and type-C ...       rd_hw_power   \n",
       "956  TextModea. Enter OS and connect SanDisk Extrem...        rd_sw_bios   \n",
       "957  TextModea. Enter OS and connect SanDisk Extrem...        rd_sw_bios   \n",
       "958  TextModea. Boot to bios with connected PXE ser...        rd_sw_bios   \n",
       "\n",
       "     CustomerPhase           CloseDate          LastUpdate  \\\n",
       "0              NaN 1900-01-01 00:00:00 2019-09-10 11:34:00   \n",
       "1              NaN 2019-09-11 14:33:48 2019-09-11 14:33:48   \n",
       "2              NaN 2019-09-10 14:58:59 2019-09-10 14:58:59   \n",
       "3              NaN 2019-09-11 14:32:02 2019-09-11 14:32:02   \n",
       "4              NaN 2019-09-17 15:02:07 2019-09-17 15:02:07   \n",
       "..             ...                 ...                 ...   \n",
       "954            NaN 1900-01-01 00:00:00 2019-10-23 14:02:18   \n",
       "955            NaN 2019-10-22 14:30:44 2019-10-22 14:30:44   \n",
       "956            NaN 2019-10-09 10:16:16 2019-10-09 10:16:16   \n",
       "957            NaN 2019-10-09 10:15:17 2019-10-09 10:15:17   \n",
       "958            NaN 1900-01-01 00:00:00 2019-09-02 10:47:04   \n",
       "\n",
       "    GeneralComponentType  GeneralSeverity GeneralStatus  \n",
       "0                  SW_OS                2        Closed  \n",
       "1                     FW                2        Closed  \n",
       "2         SW_Application                2        Closed  \n",
       "3         SW_Application                2        Closed  \n",
       "4              SW_Driver                2        Closed  \n",
       "..                   ...              ...           ...  \n",
       "954                   SW                2        Verify  \n",
       "955                   HW                2        Closed  \n",
       "956              SW_BIOS                2        Closed  \n",
       "957              SW_BIOS                2        Closed  \n",
       "958              SW_BIOS                2          Open  \n",
       "\n",
       "[959 rows x 18 columns]"
      ]
     },
     "execution_count": 9,
     "metadata": {},
     "output_type": "execute_result"
    }
   ],
   "source": [
    "# 不知道怎麼從 project 直接讀回 dataset 只好兜一圈來看看這個 dataset. \n",
    "# project <> dataset <> target 三者綁在一起，我目前的觀念就是這樣。 \n",
    "\n",
    "%f project :> file_name -->\n",
    "df = pd.read_excel(project.file_name);\n",
    "df"
   ]
  },
  {
   "cell_type": "code",
   "execution_count": 11,
   "metadata": {
    "scrolled": true
   },
   "outputs": [
    {
     "data": {
      "text/plain": [
       "[Featurelist(Raw Features),\n",
       " Featurelist(Informative Features),\n",
       " Featurelist(Univariate Selections),\n",
       " Featurelist(hubble2 severity classifier),\n",
       " Featurelist(DR Reduced Features M7),\n",
       " Featurelist(hubble2 severity classifier 2),\n",
       " Featurelist(hubble2 severity classifier 3),\n",
       " Featurelist(hubble2 severity classifier 4),\n",
       " Featurelist(hubble2 severity classifier 5),\n",
       " Featurelist(hubble2 severity classifier 6)]"
      ]
     },
     "execution_count": 11,
     "metadata": {},
     "output_type": "execute_result"
    }
   ],
   "source": [
    "featurelists = project.get_featurelists()\n",
    "featurelists"
   ]
  },
  {
   "cell_type": "code",
   "execution_count": 12,
   "metadata": {
    "jupyter": {
     "outputs_hidden": true
    }
   },
   "outputs": [
    {
     "data": {
      "text/plain": [
       "{'featurelists': [{'featurelist_id': '60f1393d4d4e8559df214692',\n",
       "   'title': 'DR Reduced Features M7',\n",
       "   'has_fam': False},\n",
       "  {'featurelist_id': '60f1341f0a61bff191603f97',\n",
       "   'title': 'Informative Features',\n",
       "   'has_fam': True},\n",
       "  {'featurelist_id': '60f1341f0a61bff191603f93',\n",
       "   'title': 'Raw Features',\n",
       "   'has_fam': False},\n",
       "  {'featurelist_id': '60f1348780d0a18c88d83fc0',\n",
       "   'title': 'Univariate Selections',\n",
       "   'has_fam': False},\n",
       "  {'featurelist_id': '60f137371a994f7402311634',\n",
       "   'title': 'hubble2 severity classifier',\n",
       "   'has_fam': False},\n",
       "  {'featurelist_id': '60f2a1a2edc1b943bb40ff17',\n",
       "   'title': 'hubble2 severity classifier 2',\n",
       "   'has_fam': False},\n",
       "  {'featurelist_id': '60f3386bc6a4ce194240f80b',\n",
       "   'title': 'hubble2 severity classifier 3',\n",
       "   'has_fam': False},\n",
       "  {'featurelist_id': '60f33e75a910de4d7b40f78d',\n",
       "   'title': 'hubble2 severity classifier 4',\n",
       "   'has_fam': False},\n",
       "  {'featurelist_id': '60f3418adad116977831141e',\n",
       "   'title': 'hubble2 severity classifier 5',\n",
       "   'has_fam': False},\n",
       "  {'featurelist_id': '60f343f60a9dc2f3e431144f',\n",
       "   'title': 'hubble2 severity classifier 6',\n",
       "   'has_fam': False}]}"
      ]
     },
     "execution_count": 12,
     "metadata": {},
     "output_type": "execute_result"
    }
   ],
   "source": [
    "association_featurelists = project.get_association_featurelists()\n",
    "association_featurelists"
   ]
  },
  {
   "cell_type": "code",
   "execution_count": 13,
   "metadata": {},
   "outputs": [
    {
     "name": "stdout",
     "output_type": "stream",
     "text": [
      "featurelist :> name --> Raw Features (<class 'str'>)\n",
      "featurelist :> features --> ['Customer', 'bugid', 'ProjectName', 'Creator', 'OpenDate', 'Subject', 'Severity', 'owner', 'Status', 'Description', 'RootCause', 'AffectedComponent', 'CustomerPhase', 'CloseDate', 'LastUpdate', 'GeneralComponentType', 'GeneralSeverity', 'GeneralStatus'] (<class 'list'>)\n"
     ]
    }
   ],
   "source": [
    "featurelist = featurelists[0]\n",
    "%f featurelist :> name -->\n",
    "%f featurelist :> features -->"
   ]
  },
  {
   "cell_type": "code",
   "execution_count": null,
   "metadata": {
    "scrolled": true
   },
   "outputs": [],
   "source": [
    "# 用第三次精挑的 feature list 跑跑看，再來看成績、feature impact\n",
    "featurelist = project.create_featurelist(\n",
    "    'hubble2 severity classifier 3', \n",
    "    ['Customer', 'ProjectName', 'Creator', 'Subject', \n",
    "     'Description', 'AffectedComponent', 'GeneralComponentType'])\n",
    "project.start_autopilot(featurelist.id)\n",
    "project.wait_for_autopilot()  # Wait for autopilot to complete"
   ]
  },
  {
   "cell_type": "code",
   "execution_count": null,
   "metadata": {},
   "outputs": [],
   "source": [
    "# 用第四次精挑的 feature list (拿掉 project name, creator 因為將來沒用或不太有用) 跑跑看，再來看成績、feature impact\n",
    "featurelist = project.create_featurelist(\n",
    "    'hubble2 severity classifier 4', \n",
    "    ['Customer', 'Subject', 'Description', 'AffectedComponent', 'GeneralComponentType'])\n",
    "project.start_autopilot(featurelist.id)\n",
    "project.wait_for_autopilot()  # Wait for autopilot to complete"
   ]
  },
  {
   "cell_type": "code",
   "execution_count": null,
   "metadata": {},
   "outputs": [],
   "source": [
    "# 用第五次精挑的 feature list (拿掉 'AffectedComponent' 又是因為太特殊，將來沒用或不太有用) 跑跑看，再來看成績、feature impact\n",
    "featurelist = project.create_featurelist(\n",
    "    'hubble2 severity classifier 5', \n",
    "    ['Customer', 'Subject', 'Description', 'GeneralComponentType'])\n",
    "project.start_autopilot(featurelist.id)\n",
    "project.wait_for_autopilot()  # Wait for autopilot to complete"
   ]
  },
  {
   "cell_type": "code",
   "execution_count": null,
   "metadata": {},
   "outputs": [],
   "source": [
    "# 用第六次終極 feature list 跑跑看，再來看成績、feature impact\n",
    "featurelist = project.create_featurelist(\n",
    "    'hubble2 severity classifier 6', \n",
    "    ['Subject', 'Description'])\n",
    "project.start_autopilot(featurelist.id)\n",
    "project.wait_for_autopilot()  # Wait for autopilot to complete"
   ]
  },
  {
   "cell_type": "code",
   "execution_count": null,
   "metadata": {},
   "outputs": [],
   "source": [
    "# clone this project to try other targets\n",
    "project.clone_project(new_project_name=\"hubble2 component\", max_wait=6000)\n"
   ]
  },
  {
   "cell_type": "code",
   "execution_count": null,
   "metadata": {},
   "outputs": [],
   "source": []
  },
  {
   "cell_type": "code",
   "execution_count": null,
   "metadata": {},
   "outputs": [],
   "source": []
  },
  {
   "cell_type": "code",
   "execution_count": null,
   "metadata": {},
   "outputs": [],
   "source": []
  },
  {
   "cell_type": "code",
   "execution_count": null,
   "metadata": {},
   "outputs": [],
   "source": []
  },
  {
   "cell_type": "code",
   "execution_count": null,
   "metadata": {},
   "outputs": [],
   "source": []
  },
  {
   "cell_type": "code",
   "execution_count": null,
   "metadata": {},
   "outputs": [],
   "source": []
  },
  {
   "cell_type": "code",
   "execution_count": null,
   "metadata": {},
   "outputs": [],
   "source": []
  },
  {
   "cell_type": "code",
   "execution_count": null,
   "metadata": {},
   "outputs": [],
   "source": []
  }
 ],
 "metadata": {
  "kernelspec": {
   "display_name": "Python 3",
   "language": "python",
   "name": "python3"
  },
  "language_info": {
   "codemirror_mode": {
    "name": "ipython",
    "version": 3
   },
   "file_extension": ".py",
   "mimetype": "text/x-python",
   "name": "python",
   "nbconvert_exporter": "python",
   "pygments_lexer": "ipython3",
   "version": "3.7.5"
  }
 },
 "nbformat": 4,
 "nbformat_minor": 4
}
