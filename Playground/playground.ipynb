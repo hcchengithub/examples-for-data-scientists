{
 "cells": [
  {
   "cell_type": "code",
   "execution_count": 1,
   "metadata": {
    "collapsed": true,
    "jupyter": {
     "outputs_hidden": true
    },
    "tags": []
   },
   "outputs": [
    {
     "name": "stdout",
     "output_type": "stream",
     "text": [
      "p e f o r t h    v1.28\n",
      "source code http://github.com/hcchengithub/peforth\n",
      "Type 'peforth.ok()' to enter forth interpreter, 'exit' to come back.\n",
      "\n",
      "*** Start self-test \n",
      "*** Data stack should be empty ... pass\n",
      "*** Rreturn stack should have less than 2 cells ... pass\n",
      "*** // adds help to the last word ... pass\n",
      "*** TIB lines after \\ should be ignored ... pass\n",
      "*** slice ... pass\n",
      "reDef ---\n",
      "*** case ... endcase ... pass\n",
      "*** modules lists imported modules ... pass\n",
      "*** cd mimic DOS/Linux cd command ... pass\n",
      "*** debugger commands x@ x> >x .sx xdrop xdropall ... pass\n",
      "*** xstack commands x@ x> >x .sx xdrop xdropall ... pass\n",
      "*** /// add comment to the last word ... pass\n",
      "*** immediate makes the LAST an immediate word ... pass\n",
      "*** compyle source code to function ... pass\n",
      "*** </pyV> based on </py> and on compyle ... pass\n",
      "*** interpret-only marks the last word an interpret-only word ... pass\n",
      "*** immediate marks the last word an immediate word ... pass\n",
      "*** compile-only marks last word as a compile-only word ... pass\n",
      "*** literal is a compiling comamnd that can improve run time performance ... pass\n",
      "*** (create) creates a new word ... pass\n",
      "*** ' (tick) gets word object ... pass\n",
      "*** \"drop\" drops the TOS ... pass\n",
      "*** here points to next available address ... pass\n",
      "*** version should return a floating point number ... pass\n",
      "*** (space) puts a 0x20 on TOS ... pass\n",
      "*** BL should return the string '\\s' literally ... pass\n",
      "*** CR should return the string \\n|\\r literally ... pass\n",
      "*** word reads \"string\" from TIB ... pass\n",
      "*** py> eval(pop()) should eval(tos) ... pass\n",
      "*** last should return the last word ... pass\n",
      "*** exit should stop a colon word ... pass\n",
      "*** (forget) forgets the last word ... pass\n",
      "*** begin ... again loop covers many things ... pass\n",
      "*** ! @ >r r> r@ drop dup swap over 0< ... pass\n",
      "*** ' tick and (') should return a word object ... pass\n",
      "*** bool and or not AND OR NOT XOR ... pass\n",
      "*** + * - / 1+ 2+ 1- 2- ... pass\n",
      "*** >> -1 signed right shift n times will be still -1 ... pass\n",
      "*** >> -4 signed right shift becomes -2 ... pass\n",
      "*** << -1 signed left shift 63 times become the smallest int number ... pass\n",
      "*** 0= 0<> 0> 0>= 0< 0<= ... pass\n",
      "*** == compares tos(1) and tos() after booleanized ... pass\n",
      "*** > < >= <= != != <> ... pass\n",
      "*** abs makes negative positive ... pass\n",
      "*** max min within ... pass\n",
      "*** doVar doNext ... pass\n",
      "*** pick 2 from 1 2 3 gets 1 2 3 1 ... pass\n",
      "*** roll 2 from 1 2 3 gets 2 3 1 ... pass\n",
      "*** [compile] compile [ ] ... pass\n",
      "*** alias should create a new word that acts same ... pass\n",
      "*** nip rot -rot 2drop 2dup invert negate within ... pass\n",
      "*** ['] tick next word immediately ... pass\n",
      "*** allot should consume some dictionary cells ... pass\n",
      "*** begin again , begin until ... pass\n",
      "*** aft for then next ahead begin while repeat ... pass\n",
      "*** ?dup dup only when it's True ... pass\n",
      "*** +! variable ... pass\n",
      "*** spaces chars ... pass\n",
      "*** .( ( .\" .' s\" s' s` ... pass\n",
      "*** count ... pass\n",
      "*** value and to work together ... pass\n",
      "*** <comment>...</comment> can be nested now ... pass\n",
      "*** constant value and to ... pass\n",
      "*** int 3.14 is 3, 12.34 is 12 ... pass\n",
      "*** drops n data stack cells ... ... pass\n",
      "*** dropall clean the data stack ... pass\n",
      "*** ASCII char>ASCII ASCII>char ... pass\n",
      "*** .s is probably the most frequently used word ... pass\n",
      "*** see (see) ... pass\n",
      "*** trim indent -indent ... pass\n",
      "*** py:~ py>~ ... pass\n",
      "*** here here! , ? allot ... pass\n",
      "*** create does> ... pass\n",
      "*** words help ... pass\n",
      "*** dict>keys dir type ... pass\n",
      "*** [if] [else] [then] [begin] [again] [until] [for] [next] ... pass\n",
      "*** du dump ... pass\n",
      "*** [r r] ... pass\n",
      "*** End of peforth.f self-test ... pass\n",
      "*** (pyclude) pyclude run ~.py file ... pass\n",
      "*** .members .source ... pass\n",
      "*** sign gets the + or - of the given number to 1 or -1 ... pass\n",
      "*** round-off ... pass\n",
      "*** txt2json ... pass\n",
      "*** dos shell to DOSbox or run DOS command ... pass\n"
     ]
    }
   ],
   "source": [
    "%run ../forth.py"
   ]
  },
  {
   "cell_type": "code",
   "execution_count": null,
   "metadata": {},
   "outputs": [],
   "source": [
    "import os, requests, sys, io\n",
    "import numpy as np\n",
    "import pandas as pd\n",
    "from pandas import DataFrame, Series\n",
    "from pandas.io.json import json_normalize\n",
    "from sklearn.external import joblib\n",
    "import matplotlib.pyplot as plt\n",
    "import matplotlib.animation as animation\n",
    "import matplotlib.cm as cm\n",
    "\n",
    "plt.style.use('seaborn-darkgrid')\n",
    "plt.rcParams.update({'figure.max_open_warning':0})\n",
    "\n",
    "%matplotlib inline\n",
    "%matplotlib nbagg\n",
    "\n"
   ]
  },
  {
   "cell_type": "code",
   "execution_count": 2,
   "metadata": {},
   "outputs": [
    {
     "name": "stdout",
     "output_type": "stream",
     "text": [
      "code end-code \\ # // <selftest> </selftest> bye /// immediate stop compyle trim indent -indent <py> </py> </pyV> words . cr help interpret-only compile-only literal reveal privacy (create) : ; ( BL CR word ' , [compile] py: py> py:~ py>~ 0branch here! here swap ! @ ? >r r> r@ drop nip dup over 0< + * - / % 1+ 2+ 1- 2- compile if then compiling char last version execute cls private nonprivate (space) exit ret rescan-word-hash (') branch bool and or not (forget) AND OR NOT XOR true false \"\" [] {} none >> << 0= 0> 0<> 0<= 0>= = == > < != >= <= abs max min doVar doNext depth pick roll space [ ] colon-word create (marker) marker next abort alias <> public rot -rot 2drop 2dup slice invert negate within ['] allot for begin until again ahead never repeat aft else while ?stop ?dup variable +! chars spaces .( .\" .' s\" s' s` does> count accept <accept> nop </accept> \u0004 case of endof endcase refill [else] [if] [then] (::) (:>) :: :> ::~ :>~ \"msg\"abort abort\" \"msg\"?abort ?abort\" '<text> (<text>) <text> </text> <comment> </comment> (constant) constant value to --> ==> >t t@ t> [begin] [again] [until] [for] [next] type list dict str set tuple dict>keys _dir_ dir keys __main__ (import) import module modules int float drops dropall char>ASCII ASCII>char CRLF ASCII .s (*debug*) *debug* readTextFile writeTextFile tib.insert dictate sinclude include break-include stringify toString .literal .function (dump) dump dump2ret du (see) see (cd) cd json2file path-to-find-modules _locals_ debug unknown bp bl bd be bd* be* quit screen-buffer myStdout display-off display-on xstack x@ x> >x .sx xdrop xdropall magic-disable magic-enable === (pyclude) pyclude .members .source sign round-off txt2json dos isipython endpoint api_token paste Timer py2ipynb \n"
     ]
    }
   ],
   "source": [
    "%f words "
   ]
  },
  {
   "cell_type": "code",
   "execution_count": 3,
   "metadata": {},
   "outputs": [
    {
     "data": {
      "text/plain": [
       "'https://app.datarobot.com/api/v2'"
      ]
     },
     "execution_count": 3,
     "metadata": {},
     "output_type": "execute_result"
    }
   ],
   "source": [
    "peforth.execute('endpoint').pop()"
   ]
  },
  {
   "cell_type": "code",
   "execution_count": 4,
   "metadata": {},
   "outputs": [
    {
     "data": {
      "text/plain": [
       "'NjBiNzQzMzA3NWVkNjdhNjhjM2M4Y2RkOkZSS0RTL1lYaUE1WWRZbU5Ka1gwb1YvM3lHTmc3ZVByeXErUGo0SmZpOHc9'"
      ]
     },
     "execution_count": 4,
     "metadata": {},
     "output_type": "execute_result"
    }
   ],
   "source": [
    "peforth.execute('api_token').pop()"
   ]
  },
  {
   "cell_type": "code",
   "execution_count": null,
   "metadata": {},
   "outputs": [],
   "source": []
  },
  {
   "cell_type": "code",
   "execution_count": null,
   "metadata": {},
   "outputs": [],
   "source": []
  }
 ],
 "metadata": {
  "kernelspec": {
   "display_name": "Python 3 (ipykernel)",
   "language": "python",
   "name": "python3"
  },
  "language_info": {
   "codemirror_mode": {
    "name": "ipython",
    "version": 3
   },
   "file_extension": ".py",
   "mimetype": "text/x-python",
   "name": "python",
   "nbconvert_exporter": "python",
   "pygments_lexer": "ipython3",
   "version": "3.8.8"
  }
 },
 "nbformat": 4,
 "nbformat_minor": 4
}
