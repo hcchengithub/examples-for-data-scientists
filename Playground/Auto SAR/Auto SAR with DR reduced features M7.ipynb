{
 "cells": [
  {
   "cell_type": "markdown",
   "metadata": {},
   "source": [
    "# Auto SAR evaluation\n",
    "## Auto SAR with DR reduced features M7"
   ]
  },
  {
   "cell_type": "code",
   "execution_count": 1,
   "metadata": {},
   "outputs": [
    {
     "name": "stdout",
     "output_type": "stream",
     "text": [
      "reDef unknown\n",
      "reDef -->\n",
      "p e f o r t h    v1.26\n",
      "source code http://github.com/hcchengithub/peforth\n",
      "Type 'peforth.ok()' to enter forth interpreter, 'exit' to come back.\n",
      "\n"
     ]
    }
   ],
   "source": [
    "%run ../../../forth.py"
   ]
  },
  {
   "cell_type": "code",
   "execution_count": 2,
   "metadata": {},
   "outputs": [],
   "source": [
    "import pandas as pd\n",
    "import numpy as np\n",
    "import math"
   ]
  },
  {
   "cell_type": "code",
   "execution_count": 3,
   "metadata": {},
   "outputs": [
    {
     "data": {
      "text/html": [
       "<div>\n",
       "<style scoped>\n",
       "    .dataframe tbody tr th:only-of-type {\n",
       "        vertical-align: middle;\n",
       "    }\n",
       "\n",
       "    .dataframe tbody tr th {\n",
       "        vertical-align: top;\n",
       "    }\n",
       "\n",
       "    .dataframe thead th {\n",
       "        text-align: right;\n",
       "    }\n",
       "</style>\n",
       "<table border=\"1\" class=\"dataframe\">\n",
       "  <thead>\n",
       "    <tr style=\"text-align: right;\">\n",
       "      <th></th>\n",
       "      <th>Unnamed: 0</th>\n",
       "      <th>Measured.1g.SAR</th>\n",
       "      <th>Average.Power</th>\n",
       "      <th>Band</th>\n",
       "      <th>Mode</th>\n",
       "      <th>Test.Position</th>\n",
       "      <th>Antenna.Vendor</th>\n",
       "      <th>Ch.</th>\n",
       "      <th>Freq.</th>\n",
       "      <th>Tune.Up.Limit</th>\n",
       "      <th>...</th>\n",
       "      <th>Duty.Cycle.Scaling.Factor</th>\n",
       "      <th>Reported.1g.SAR</th>\n",
       "      <th>Antenna.Peak.gain</th>\n",
       "      <th>filename</th>\n",
       "      <th>New.Test.Position</th>\n",
       "      <th>Dist</th>\n",
       "      <th>shell.type</th>\n",
       "      <th>New.Test.Position3</th>\n",
       "      <th>predict.SAR</th>\n",
       "      <th>isfail</th>\n",
       "    </tr>\n",
       "  </thead>\n",
       "  <tbody>\n",
       "    <tr>\n",
       "      <th>0</th>\n",
       "      <td>1</td>\n",
       "      <td>0.328</td>\n",
       "      <td>20.39</td>\n",
       "      <td>2G</td>\n",
       "      <td>802.11b 1Mbps</td>\n",
       "      <td>Bottom Face</td>\n",
       "      <td>WNC</td>\n",
       "      <td>6</td>\n",
       "      <td>2437</td>\n",
       "      <td>20.5</td>\n",
       "      <td>...</td>\n",
       "      <td>1.007</td>\n",
       "      <td>0.339</td>\n",
       "      <td>1.70</td>\n",
       "      <td>FA7N2208_R01_FCC SAR_Wistron_Starlord13 BBY AM...</td>\n",
       "      <td>Bottom</td>\n",
       "      <td>14.75</td>\n",
       "      <td>1</td>\n",
       "      <td>Face</td>\n",
       "      <td>0.306149</td>\n",
       "      <td>pass</td>\n",
       "    </tr>\n",
       "    <tr>\n",
       "      <th>1</th>\n",
       "      <td>2</td>\n",
       "      <td>0.743</td>\n",
       "      <td>20.39</td>\n",
       "      <td>2G</td>\n",
       "      <td>802.11b 1Mbps</td>\n",
       "      <td>Edge 1</td>\n",
       "      <td>WNC</td>\n",
       "      <td>6</td>\n",
       "      <td>2437</td>\n",
       "      <td>20.5</td>\n",
       "      <td>...</td>\n",
       "      <td>1.007</td>\n",
       "      <td>0.767</td>\n",
       "      <td>-2.54</td>\n",
       "      <td>FA7N2208_R01_FCC SAR_Wistron_Starlord13 BBY AM...</td>\n",
       "      <td>Edge</td>\n",
       "      <td>1.50</td>\n",
       "      <td>1</td>\n",
       "      <td>Edge</td>\n",
       "      <td>0.741336</td>\n",
       "      <td>pass</td>\n",
       "    </tr>\n",
       "    <tr>\n",
       "      <th>2</th>\n",
       "      <td>3</td>\n",
       "      <td>0.742</td>\n",
       "      <td>20.39</td>\n",
       "      <td>2G</td>\n",
       "      <td>802.11b 1Mbps</td>\n",
       "      <td>Edge 1</td>\n",
       "      <td>Acon</td>\n",
       "      <td>6</td>\n",
       "      <td>2437</td>\n",
       "      <td>20.5</td>\n",
       "      <td>...</td>\n",
       "      <td>1.007</td>\n",
       "      <td>0.766</td>\n",
       "      <td>-2.16</td>\n",
       "      <td>FA7N2208_R01_FCC SAR_Wistron_Starlord13 BBY AM...</td>\n",
       "      <td>Edge</td>\n",
       "      <td>1.50</td>\n",
       "      <td>1</td>\n",
       "      <td>Edge</td>\n",
       "      <td>0.762837</td>\n",
       "      <td>pass</td>\n",
       "    </tr>\n",
       "    <tr>\n",
       "      <th>3</th>\n",
       "      <td>4</td>\n",
       "      <td>0.764</td>\n",
       "      <td>20.37</td>\n",
       "      <td>2G</td>\n",
       "      <td>802.11b 1Mbps</td>\n",
       "      <td>Edge 1</td>\n",
       "      <td>WNC</td>\n",
       "      <td>1</td>\n",
       "      <td>2412</td>\n",
       "      <td>20.5</td>\n",
       "      <td>...</td>\n",
       "      <td>1.007</td>\n",
       "      <td>0.793</td>\n",
       "      <td>-2.54</td>\n",
       "      <td>FA7N2208_R01_FCC SAR_Wistron_Starlord13 BBY AM...</td>\n",
       "      <td>Edge</td>\n",
       "      <td>1.50</td>\n",
       "      <td>1</td>\n",
       "      <td>Edge</td>\n",
       "      <td>0.850251</td>\n",
       "      <td>pass</td>\n",
       "    </tr>\n",
       "    <tr>\n",
       "      <th>4</th>\n",
       "      <td>5</td>\n",
       "      <td>0.831</td>\n",
       "      <td>20.27</td>\n",
       "      <td>2G</td>\n",
       "      <td>802.11b 1Mbps</td>\n",
       "      <td>Edge 1</td>\n",
       "      <td>WNC</td>\n",
       "      <td>11</td>\n",
       "      <td>2462</td>\n",
       "      <td>20.5</td>\n",
       "      <td>...</td>\n",
       "      <td>1.007</td>\n",
       "      <td>0.882</td>\n",
       "      <td>-2.54</td>\n",
       "      <td>FA7N2208_R01_FCC SAR_Wistron_Starlord13 BBY AM...</td>\n",
       "      <td>Edge</td>\n",
       "      <td>1.50</td>\n",
       "      <td>1</td>\n",
       "      <td>Edge</td>\n",
       "      <td>0.874306</td>\n",
       "      <td>pass</td>\n",
       "    </tr>\n",
       "    <tr>\n",
       "      <th>...</th>\n",
       "      <td>...</td>\n",
       "      <td>...</td>\n",
       "      <td>...</td>\n",
       "      <td>...</td>\n",
       "      <td>...</td>\n",
       "      <td>...</td>\n",
       "      <td>...</td>\n",
       "      <td>...</td>\n",
       "      <td>...</td>\n",
       "      <td>...</td>\n",
       "      <td>...</td>\n",
       "      <td>...</td>\n",
       "      <td>...</td>\n",
       "      <td>...</td>\n",
       "      <td>...</td>\n",
       "      <td>...</td>\n",
       "      <td>...</td>\n",
       "      <td>...</td>\n",
       "      <td>...</td>\n",
       "      <td>...</td>\n",
       "      <td>...</td>\n",
       "    </tr>\n",
       "    <tr>\n",
       "      <th>669</th>\n",
       "      <td>670</td>\n",
       "      <td>1.800</td>\n",
       "      <td>13.40</td>\n",
       "      <td>5G</td>\n",
       "      <td>802.11ac-VHT160 MCS0</td>\n",
       "      <td>Bottom Face</td>\n",
       "      <td>High-Tek</td>\n",
       "      <td>114</td>\n",
       "      <td>5570</td>\n",
       "      <td>13.5</td>\n",
       "      <td>...</td>\n",
       "      <td>1.176</td>\n",
       "      <td>2.166</td>\n",
       "      <td>0.79</td>\n",
       "      <td>ARES</td>\n",
       "      <td>Bottom</td>\n",
       "      <td>6.60</td>\n",
       "      <td>2</td>\n",
       "      <td>Face</td>\n",
       "      <td>0.387719</td>\n",
       "      <td>fail</td>\n",
       "    </tr>\n",
       "    <tr>\n",
       "      <th>670</th>\n",
       "      <td>671</td>\n",
       "      <td>1.720</td>\n",
       "      <td>13.40</td>\n",
       "      <td>5G</td>\n",
       "      <td>802.11ac-VHT160 MCS0</td>\n",
       "      <td>Bottom Face</td>\n",
       "      <td>High-Tek</td>\n",
       "      <td>114</td>\n",
       "      <td>5570</td>\n",
       "      <td>13.5</td>\n",
       "      <td>...</td>\n",
       "      <td>1.176</td>\n",
       "      <td>2.070</td>\n",
       "      <td>0.79</td>\n",
       "      <td>ARES</td>\n",
       "      <td>Bottom</td>\n",
       "      <td>6.60</td>\n",
       "      <td>2</td>\n",
       "      <td>Face</td>\n",
       "      <td>0.387719</td>\n",
       "      <td>fail</td>\n",
       "    </tr>\n",
       "    <tr>\n",
       "      <th>671</th>\n",
       "      <td>672</td>\n",
       "      <td>1.480</td>\n",
       "      <td>13.41</td>\n",
       "      <td>5G</td>\n",
       "      <td>802.11ac-VHT160 MCS0</td>\n",
       "      <td>Bottom Face</td>\n",
       "      <td>Auden</td>\n",
       "      <td>50</td>\n",
       "      <td>5250</td>\n",
       "      <td>13.5</td>\n",
       "      <td>...</td>\n",
       "      <td>1.176</td>\n",
       "      <td>1.777</td>\n",
       "      <td>2.82</td>\n",
       "      <td>ARES</td>\n",
       "      <td>Bottom</td>\n",
       "      <td>6.60</td>\n",
       "      <td>2</td>\n",
       "      <td>Face</td>\n",
       "      <td>0.346640</td>\n",
       "      <td>fail</td>\n",
       "    </tr>\n",
       "    <tr>\n",
       "      <th>672</th>\n",
       "      <td>673</td>\n",
       "      <td>2.130</td>\n",
       "      <td>13.46</td>\n",
       "      <td>5G</td>\n",
       "      <td>802.11ac-VHT160 MCS0</td>\n",
       "      <td>Bottom Face</td>\n",
       "      <td>Auden</td>\n",
       "      <td>114</td>\n",
       "      <td>5570</td>\n",
       "      <td>14.0</td>\n",
       "      <td>...</td>\n",
       "      <td>1.176</td>\n",
       "      <td>2.837</td>\n",
       "      <td>0.72</td>\n",
       "      <td>ARES</td>\n",
       "      <td>Bottom</td>\n",
       "      <td>6.60</td>\n",
       "      <td>2</td>\n",
       "      <td>Face</td>\n",
       "      <td>0.319251</td>\n",
       "      <td>fail</td>\n",
       "    </tr>\n",
       "    <tr>\n",
       "      <th>673</th>\n",
       "      <td>674</td>\n",
       "      <td>1.120</td>\n",
       "      <td>13.20</td>\n",
       "      <td>2G</td>\n",
       "      <td>802.11b 1Mbps</td>\n",
       "      <td>Bottom Face</td>\n",
       "      <td>Acon</td>\n",
       "      <td>1</td>\n",
       "      <td>2412</td>\n",
       "      <td>15.5</td>\n",
       "      <td>...</td>\n",
       "      <td>1.010</td>\n",
       "      <td>1.921</td>\n",
       "      <td>-1.78</td>\n",
       "      <td>LC40</td>\n",
       "      <td>Bottom</td>\n",
       "      <td>2.80</td>\n",
       "      <td>1</td>\n",
       "      <td>Face</td>\n",
       "      <td>0.157329</td>\n",
       "      <td>fail</td>\n",
       "    </tr>\n",
       "  </tbody>\n",
       "</table>\n",
       "<p>674 rows × 22 columns</p>\n",
       "</div>"
      ],
      "text/plain": [
       "     Unnamed: 0  Measured.1g.SAR  Average.Power Band                  Mode  \\\n",
       "0             1            0.328          20.39   2G         802.11b 1Mbps   \n",
       "1             2            0.743          20.39   2G         802.11b 1Mbps   \n",
       "2             3            0.742          20.39   2G         802.11b 1Mbps   \n",
       "3             4            0.764          20.37   2G         802.11b 1Mbps   \n",
       "4             5            0.831          20.27   2G         802.11b 1Mbps   \n",
       "..          ...              ...            ...  ...                   ...   \n",
       "669         670            1.800          13.40   5G  802.11ac-VHT160 MCS0   \n",
       "670         671            1.720          13.40   5G  802.11ac-VHT160 MCS0   \n",
       "671         672            1.480          13.41   5G  802.11ac-VHT160 MCS0   \n",
       "672         673            2.130          13.46   5G  802.11ac-VHT160 MCS0   \n",
       "673         674            1.120          13.20   2G         802.11b 1Mbps   \n",
       "\n",
       "    Test.Position Antenna.Vendor  Ch.  Freq.  Tune.Up.Limit  ...  \\\n",
       "0     Bottom Face            WNC    6   2437           20.5  ...   \n",
       "1          Edge 1            WNC    6   2437           20.5  ...   \n",
       "2          Edge 1           Acon    6   2437           20.5  ...   \n",
       "3          Edge 1            WNC    1   2412           20.5  ...   \n",
       "4          Edge 1            WNC   11   2462           20.5  ...   \n",
       "..            ...            ...  ...    ...            ...  ...   \n",
       "669   Bottom Face       High-Tek  114   5570           13.5  ...   \n",
       "670   Bottom Face       High-Tek  114   5570           13.5  ...   \n",
       "671   Bottom Face          Auden   50   5250           13.5  ...   \n",
       "672   Bottom Face          Auden  114   5570           14.0  ...   \n",
       "673   Bottom Face           Acon    1   2412           15.5  ...   \n",
       "\n",
       "     Duty.Cycle.Scaling.Factor  Reported.1g.SAR  Antenna.Peak.gain  \\\n",
       "0                        1.007            0.339               1.70   \n",
       "1                        1.007            0.767              -2.54   \n",
       "2                        1.007            0.766              -2.16   \n",
       "3                        1.007            0.793              -2.54   \n",
       "4                        1.007            0.882              -2.54   \n",
       "..                         ...              ...                ...   \n",
       "669                      1.176            2.166               0.79   \n",
       "670                      1.176            2.070               0.79   \n",
       "671                      1.176            1.777               2.82   \n",
       "672                      1.176            2.837               0.72   \n",
       "673                      1.010            1.921              -1.78   \n",
       "\n",
       "                                              filename  New.Test.Position  \\\n",
       "0    FA7N2208_R01_FCC SAR_Wistron_Starlord13 BBY AM...             Bottom   \n",
       "1    FA7N2208_R01_FCC SAR_Wistron_Starlord13 BBY AM...               Edge   \n",
       "2    FA7N2208_R01_FCC SAR_Wistron_Starlord13 BBY AM...               Edge   \n",
       "3    FA7N2208_R01_FCC SAR_Wistron_Starlord13 BBY AM...               Edge   \n",
       "4    FA7N2208_R01_FCC SAR_Wistron_Starlord13 BBY AM...               Edge   \n",
       "..                                                 ...                ...   \n",
       "669                                               ARES             Bottom   \n",
       "670                                               ARES             Bottom   \n",
       "671                                               ARES             Bottom   \n",
       "672                                               ARES             Bottom   \n",
       "673                                               LC40             Bottom   \n",
       "\n",
       "      Dist shell.type  New.Test.Position3  predict.SAR isfail  \n",
       "0    14.75          1                Face     0.306149   pass  \n",
       "1     1.50          1                Edge     0.741336   pass  \n",
       "2     1.50          1                Edge     0.762837   pass  \n",
       "3     1.50          1                Edge     0.850251   pass  \n",
       "4     1.50          1                Edge     0.874306   pass  \n",
       "..     ...        ...                 ...          ...    ...  \n",
       "669   6.60          2                Face     0.387719   fail  \n",
       "670   6.60          2                Face     0.387719   fail  \n",
       "671   6.60          2                Face     0.346640   fail  \n",
       "672   6.60          2                Face     0.319251   fail  \n",
       "673   2.80          1                Face     0.157329   fail  \n",
       "\n",
       "[674 rows x 22 columns]"
      ]
     },
     "execution_count": 3,
     "metadata": {},
     "output_type": "execute_result"
    }
   ],
   "source": [
    "target_name = 'isfail'\n",
    "data = pd.read_csv('Auto SAR.csv')\n",
    "data"
   ]
  },
  {
   "cell_type": "code",
   "execution_count": 4,
   "metadata": {},
   "outputs": [],
   "source": [
    "# 取得 dr \n",
    "import datarobot as dr"
   ]
  },
  {
   "cell_type": "code",
   "execution_count": 5,
   "metadata": {},
   "outputs": [
    {
     "data": {
      "text/plain": [
       "<datarobot.rest.RESTClientObject at 0x252aec5a348>"
      ]
     },
     "execution_count": 5,
     "metadata": {},
     "output_type": "execute_result"
    }
   ],
   "source": [
    "dr.Client(token=peforth.execute('api_token').pop(), endpoint=peforth.execute('endpoint').pop())"
   ]
  },
  {
   "cell_type": "code",
   "execution_count": 6,
   "metadata": {},
   "outputs": [
    {
     "name": "stdout",
     "output_type": "stream",
     "text": [
      "project_id --> 60d50ffd1734e588767217b0 (<class 'str'>)\n",
      "project --> Project(Auto SAR with neat features.csv) (<class 'datarobot.models.project.Project'>)\n"
     ]
    }
   ],
   "source": [
    "# 取得 project \n",
    "project_name = 'Auto SAR'\n",
    "project_id = dr.Project.list(search_params={'project_name':project_name})[0].id\n",
    "project = dr.Project.get(project_id=project_id)\n",
    "%f project_id -->\n",
    "%f project -->"
   ]
  },
  {
   "cell_type": "code",
   "execution_count": 9,
   "metadata": {},
   "outputs": [
    {
     "data": {
      "text/plain": [
       "Model('eXtreme Gradient Boosted Trees Classifier')"
      ]
     },
     "execution_count": 9,
     "metadata": {},
     "output_type": "execute_result"
    }
   ],
   "source": [
    "# 取得 model\n",
    "# model_id 用手工上 UI 取得\n",
    "\n",
    "# model_id = '60d5156ce9c78695e07ddd48'\n",
    "model_id = '60d5154d5010afda547ddd50'\n",
    "model = dr.Model.get(project=project.id,model_id=model_id)\n",
    "model"
   ]
  },
  {
   "cell_type": "code",
   "execution_count": 10,
   "metadata": {},
   "outputs": [
    {
     "data": {
      "text/plain": [
       "<datarobot.models.training_predictions.TrainingPredictions at 0x252aec9ecc8>"
      ]
     },
     "execution_count": 10,
     "metadata": {},
     "output_type": "execute_result"
    }
   ],
   "source": [
    "training_predictions_job = model.request_training_predictions(dr.enums.DATA_SUBSET.HOLDOUT)\n",
    "training_predictions = training_predictions_job.get_result_when_complete()\n",
    "training_predictions"
   ]
  },
  {
   "cell_type": "code",
   "execution_count": 11,
   "metadata": {},
   "outputs": [
    {
     "data": {
      "text/html": [
       "<div>\n",
       "<style scoped>\n",
       "    .dataframe tbody tr th:only-of-type {\n",
       "        vertical-align: middle;\n",
       "    }\n",
       "\n",
       "    .dataframe tbody tr th {\n",
       "        vertical-align: top;\n",
       "    }\n",
       "\n",
       "    .dataframe thead th {\n",
       "        text-align: right;\n",
       "    }\n",
       "</style>\n",
       "<table border=\"1\" class=\"dataframe\">\n",
       "  <thead>\n",
       "    <tr style=\"text-align: right;\">\n",
       "      <th></th>\n",
       "      <th>row_id</th>\n",
       "      <th>partition_id</th>\n",
       "      <th>prediction</th>\n",
       "      <th>class_pass</th>\n",
       "      <th>class_fail</th>\n",
       "    </tr>\n",
       "  </thead>\n",
       "  <tbody>\n",
       "    <tr>\n",
       "      <th>0</th>\n",
       "      <td>8</td>\n",
       "      <td>Holdout</td>\n",
       "      <td>pass</td>\n",
       "      <td>0.998929</td>\n",
       "      <td>0.001071</td>\n",
       "    </tr>\n",
       "    <tr>\n",
       "      <th>1</th>\n",
       "      <td>11</td>\n",
       "      <td>Holdout</td>\n",
       "      <td>pass</td>\n",
       "      <td>0.998799</td>\n",
       "      <td>0.001201</td>\n",
       "    </tr>\n",
       "    <tr>\n",
       "      <th>2</th>\n",
       "      <td>21</td>\n",
       "      <td>Holdout</td>\n",
       "      <td>pass</td>\n",
       "      <td>0.984291</td>\n",
       "      <td>0.015709</td>\n",
       "    </tr>\n",
       "    <tr>\n",
       "      <th>3</th>\n",
       "      <td>29</td>\n",
       "      <td>Holdout</td>\n",
       "      <td>pass</td>\n",
       "      <td>0.998821</td>\n",
       "      <td>0.001179</td>\n",
       "    </tr>\n",
       "    <tr>\n",
       "      <th>4</th>\n",
       "      <td>44</td>\n",
       "      <td>Holdout</td>\n",
       "      <td>pass</td>\n",
       "      <td>0.997083</td>\n",
       "      <td>0.002917</td>\n",
       "    </tr>\n",
       "  </tbody>\n",
       "</table>\n",
       "</div>"
      ],
      "text/plain": [
       "   row_id partition_id prediction  class_pass  class_fail\n",
       "0       8      Holdout       pass    0.998929    0.001071\n",
       "1      11      Holdout       pass    0.998799    0.001201\n",
       "2      21      Holdout       pass    0.984291    0.015709\n",
       "3      29      Holdout       pass    0.998821    0.001179\n",
       "4      44      Holdout       pass    0.997083    0.002917"
      ]
     },
     "execution_count": 11,
     "metadata": {},
     "output_type": "execute_result"
    }
   ],
   "source": [
    "# Fetch training predictions as data frame\n",
    "df_predict_holdout = training_predictions.get_all_as_dataframe()\n",
    "df_predict_holdout.head()"
   ]
  },
  {
   "cell_type": "code",
   "execution_count": 12,
   "metadata": {},
   "outputs": [
    {
     "name": "stdout",
     "output_type": "stream",
     "text": [
      "df_predict_holdout :> ['prediction'] list --> ['pass', 'pass', 'pass', 'pass', 'pass', 'pass', 'pass', 'pass', 'pass', 'pass', 'pass', 'pass', 'pass', 'pass', 'pass', 'pass', 'pass', 'pass', 'pass', 'pass', 'pass', 'pass', 'pass', 'pass', 'pass', 'pass', 'pass', 'pass', 'pass', 'pass', 'pass', 'pass', 'pass', 'pass', 'pass', 'pass', 'pass', 'pass', 'pass', 'pass', 'pass', 'pass', 'pass', 'pass', 'pass', 'pass', 'pass', 'pass', 'pass', 'pass', 'pass', 'pass', 'pass', 'pass', 'pass', 'pass', 'pass', 'pass', 'pass', 'pass', 'pass', 'pass', 'pass', 'pass', 'pass', 'pass', 'pass', 'pass', 'pass', 'pass', 'pass', 'pass', 'pass', 'pass', 'pass', 'pass', 'pass', 'pass', 'pass', 'pass', 'pass', 'pass', 'pass', 'pass', 'pass', 'pass', 'pass', 'pass', 'pass', 'pass', 'pass', 'pass', 'pass', 'pass', 'pass', 'pass', 'pass', 'pass', 'pass', 'pass', 'pass', 'pass', 'pass', 'pass', 'pass', 'pass', 'pass', 'pass', 'pass', 'pass', 'pass', 'pass', 'pass', 'pass', 'pass', 'pass', 'pass', 'pass', 'pass', 'pass', 'pass', 'pass', 'pass', 'pass', 'pass', 'pass', 'pass', 'pass', 'fail', 'fail', 'fail', 'fail', 'fail', 'pass'] (<class 'list'>)\n",
      "\n",
      "df_predict_holdout :> ['row_id'] list --> [8, 11, 21, 29, 44, 58, 61, 62, 64, 66, 69, 70, 73, 78, 100, 112, 113, 121, 124, 126, 128, 131, 133, 146, 156, 160, 163, 167, 170, 171, 181, 187, 190, 194, 200, 206, 207, 226, 234, 242, 248, 253, 254, 261, 263, 267, 268, 269, 270, 271, 274, 277, 278, 281, 287, 299, 300, 301, 305, 315, 319, 320, 321, 322, 326, 327, 335, 339, 341, 344, 347, 357, 385, 388, 389, 391, 402, 403, 411, 412, 415, 446, 450, 452, 453, 454, 456, 467, 468, 470, 473, 478, 479, 484, 486, 488, 492, 501, 504, 507, 516, 522, 524, 525, 534, 544, 552, 553, 564, 567, 568, 569, 570, 571, 576, 579, 580, 582, 591, 592, 599, 607, 611, 616, 622, 635, 638, 642, 649, 650, 651, 654, 665, 672] (<class 'list'>)\n"
     ]
    }
   ],
   "source": [
    "# 瞧一瞧所有的 prediction 結果。等下要拿來跟 dataset 比對。\n",
    "%f df_predict_holdout :> ['prediction'] list --> cr\n",
    "%f df_predict_holdout :> ['row_id'] list -->\n",
    "    "
   ]
  },
  {
   "cell_type": "code",
   "execution_count": 13,
   "metadata": {},
   "outputs": [
    {
     "name": "stdout",
     "output_type": "stream",
     "text": [
      "indexs count nip --> 5 (<class 'int'>)\n",
      "positives --> [True, True, True, True, True] (<class 'list'>)\n",
      "TN 兩邊個數要吻合\n",
      "\n"
     ]
    },
    {
     "data": {
      "text/plain": [
       "5"
      ]
     },
     "execution_count": 13,
     "metadata": {},
     "output_type": "execute_result"
    }
   ],
   "source": [
    "# prediction 結果跟 dataset 比對。用 prediction 'fail' 的 index 去算 dataset 的 isfail 也是 'fail' 就是 TN\n",
    "\n",
    "indexs = list(df_predict_holdout.query('prediction == \"fail\"')['row_id'])\n",
    "%f indexs count nip -->\n",
    "positives = [data[target_name].iloc[i]=='fail' for i in indexs]    \n",
    "%f positives --> # TN 兩邊個數要吻合\n",
    "sum(positives)"
   ]
  },
  {
   "cell_type": "code",
   "execution_count": 14,
   "metadata": {},
   "outputs": [
    {
     "name": "stdout",
     "output_type": "stream",
     "text": [
      "indexs count nip --> 129 (<class 'int'>)\n",
      "positives --> [True, True, True, True, True, True, True, True, True, True, True, True, True, True, True, True, True, True, True, True, True, True, True, True, True, True, True, True, True, True, True, True, True, True, True, True, True, True, True, True, True, True, True, True, True, True, True, True, True, True, True, True, True, True, True, True, True, True, True, True, True, True, True, True, True, True, True, True, True, True, True, True, True, True, True, True, True, True, True, True, True, True, True, True, True, True, True, True, True, True, True, True, True, True, True, True, True, True, True, True, True, True, True, True, True, True, True, True, True, True, True, True, True, True, True, True, True, True, True, True, True, True, True, True, True, True, True, True, False] (<class 'list'>)\n",
      "TP 兩邊個數要吻合\n",
      "\n"
     ]
    },
    {
     "data": {
      "text/plain": [
       "128"
      ]
     },
     "execution_count": 14,
     "metadata": {},
     "output_type": "execute_result"
    }
   ],
   "source": [
    "# prediction 結果跟 dataset 比對。用 prediction 'pass' 的 index 去算 dataset 的 isfail 也是 'pass' 就是 TP\n",
    "\n",
    "indexs = list(df_predict_holdout.query('prediction == \"pass\"')['row_id'])\n",
    "%f indexs count nip -->\n",
    "positives = [data[target_name].iloc[i]=='pass' for i in indexs]    \n",
    "%f positives --> # TP 兩邊個數要吻合\n",
    "sum(positives)"
   ]
  },
  {
   "cell_type": "code",
   "execution_count": null,
   "metadata": {},
   "outputs": [],
   "source": []
  },
  {
   "cell_type": "code",
   "execution_count": null,
   "metadata": {},
   "outputs": [],
   "source": []
  },
  {
   "cell_type": "code",
   "execution_count": null,
   "metadata": {},
   "outputs": [],
   "source": []
  },
  {
   "cell_type": "code",
   "execution_count": null,
   "metadata": {},
   "outputs": [],
   "source": []
  },
  {
   "cell_type": "code",
   "execution_count": null,
   "metadata": {},
   "outputs": [],
   "source": []
  },
  {
   "cell_type": "code",
   "execution_count": null,
   "metadata": {},
   "outputs": [],
   "source": []
  },
  {
   "cell_type": "code",
   "execution_count": null,
   "metadata": {},
   "outputs": [],
   "source": []
  },
  {
   "cell_type": "code",
   "execution_count": null,
   "metadata": {},
   "outputs": [],
   "source": []
  },
  {
   "cell_type": "code",
   "execution_count": null,
   "metadata": {},
   "outputs": [],
   "source": []
  }
 ],
 "metadata": {
  "kernelspec": {
   "display_name": "Python 3",
   "language": "python",
   "name": "python3"
  },
  "language_info": {
   "codemirror_mode": {
    "name": "ipython",
    "version": 3
   },
   "file_extension": ".py",
   "mimetype": "text/x-python",
   "name": "python",
   "nbconvert_exporter": "python",
   "pygments_lexer": "ipython3",
   "version": "3.7.5"
  }
 },
 "nbformat": 4,
 "nbformat_minor": 4
}
