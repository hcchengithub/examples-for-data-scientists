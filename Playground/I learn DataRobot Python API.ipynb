{
 "cells": [
  {
   "cell_type": "code",
   "execution_count": 1,
   "metadata": {},
   "outputs": [
    {
     "name": "stdout",
     "output_type": "stream",
     "text": [
      "reDef unknown\n",
      "reDef -->\n",
      "p e f o r t h    v1.26\n",
      "source code http://github.com/hcchengithub/peforth\n",
      "Type 'peforth.ok()' to enter forth interpreter, 'exit' to come back.\n",
      "\n"
     ]
    }
   ],
   "source": [
    "%run ../forth.py"
   ]
  },
  {
   "cell_type": "raw",
   "metadata": {},
   "source": [
    "!pip install datarobot\n",
    "!pip install seaborn"
   ]
  },
  {
   "cell_type": "code",
   "execution_count": 2,
   "metadata": {},
   "outputs": [],
   "source": [
    "import datarobot as dr \n",
    "import pandas as pd\n",
    "import numpy as np\n",
    "import matplotlib.pyplot as plt\n",
    "import seaborn as sns\n",
    "sns.set(style=\"whitegrid\")"
   ]
  },
  {
   "cell_type": "code",
   "execution_count": 6,
   "metadata": {
    "scrolled": true
   },
   "outputs": [
    {
     "data": {
      "text/html": [
       "<div>\n",
       "<style scoped>\n",
       "    .dataframe tbody tr th:only-of-type {\n",
       "        vertical-align: middle;\n",
       "    }\n",
       "\n",
       "    .dataframe tbody tr th {\n",
       "        vertical-align: top;\n",
       "    }\n",
       "\n",
       "    .dataframe thead th {\n",
       "        text-align: right;\n",
       "    }\n",
       "</style>\n",
       "<table border=\"1\" class=\"dataframe\">\n",
       "  <thead>\n",
       "    <tr style=\"text-align: right;\">\n",
       "      <th></th>\n",
       "      <th>Bleedout</th>\n",
       "      <th>底片長度</th>\n",
       "      <th>型態</th>\n",
       "      <th>機台ID</th>\n",
       "      <th>塗佈溫度</th>\n",
       "      <th>塗佈濕度</th>\n",
       "      <th>馬達壓力</th>\n",
       "      <th>乾燥溫度一</th>\n",
       "      <th>乾燥溫度二</th>\n",
       "      <th>UV暴露</th>\n",
       "      <th>照明時間</th>\n",
       "      <th>爐子O2</th>\n",
       "      <th>底片UV溫度</th>\n",
       "      <th>張力一</th>\n",
       "      <th>張力二</th>\n",
       "      <th>彎曲張力</th>\n",
       "      <th>EPC差異一</th>\n",
       "      <th>EPC差異二</th>\n",
       "      <th>缺陷Mode</th>\n",
       "    </tr>\n",
       "  </thead>\n",
       "  <tbody>\n",
       "    <tr>\n",
       "      <th>0</th>\n",
       "      <td>False</td>\n",
       "      <td>500m</td>\n",
       "      <td>Production</td>\n",
       "      <td>YC-08</td>\n",
       "      <td>27.36</td>\n",
       "      <td>50.2</td>\n",
       "      <td>0.9</td>\n",
       "      <td>120.00</td>\n",
       "      <td>122.00</td>\n",
       "      <td>1020.0</td>\n",
       "      <td>344</td>\n",
       "      <td>0.01017</td>\n",
       "      <td>89.03</td>\n",
       "      <td>4.981</td>\n",
       "      <td>2.397</td>\n",
       "      <td>3.102</td>\n",
       "      <td>0.072875</td>\n",
       "      <td>0.075678</td>\n",
       "      <td>0</td>\n",
       "    </tr>\n",
       "    <tr>\n",
       "      <th>1</th>\n",
       "      <td>False</td>\n",
       "      <td>500m</td>\n",
       "      <td>Production</td>\n",
       "      <td>YC-08</td>\n",
       "      <td>27.25</td>\n",
       "      <td>51.1</td>\n",
       "      <td>0.9</td>\n",
       "      <td>120.47</td>\n",
       "      <td>122.00</td>\n",
       "      <td>1021.3</td>\n",
       "      <td>2079</td>\n",
       "      <td>0.01247</td>\n",
       "      <td>89.07</td>\n",
       "      <td>2.980</td>\n",
       "      <td>3.081</td>\n",
       "      <td>3.184</td>\n",
       "      <td>0.021427</td>\n",
       "      <td>0.041128</td>\n",
       "      <td>0</td>\n",
       "    </tr>\n",
       "    <tr>\n",
       "      <th>2</th>\n",
       "      <td>False</td>\n",
       "      <td>1500m</td>\n",
       "      <td>Prototype</td>\n",
       "      <td>YC-08</td>\n",
       "      <td>27.57</td>\n",
       "      <td>50.3</td>\n",
       "      <td>0.9</td>\n",
       "      <td>120.05</td>\n",
       "      <td>122.05</td>\n",
       "      <td>1020.2</td>\n",
       "      <td>431</td>\n",
       "      <td>0.01052</td>\n",
       "      <td>89.02</td>\n",
       "      <td>1.786</td>\n",
       "      <td>4.684</td>\n",
       "      <td>3.116</td>\n",
       "      <td>0.081048</td>\n",
       "      <td>0.097389</td>\n",
       "      <td>0</td>\n",
       "    </tr>\n",
       "    <tr>\n",
       "      <th>3</th>\n",
       "      <td>False</td>\n",
       "      <td>1000m</td>\n",
       "      <td>Production</td>\n",
       "      <td>YC-08</td>\n",
       "      <td>28.50</td>\n",
       "      <td>50.9</td>\n",
       "      <td>0.9</td>\n",
       "      <td>120.14</td>\n",
       "      <td>122.00</td>\n",
       "      <td>1020.3</td>\n",
       "      <td>1343</td>\n",
       "      <td>0.01160</td>\n",
       "      <td>89.05</td>\n",
       "      <td>4.068</td>\n",
       "      <td>2.574</td>\n",
       "      <td>3.135</td>\n",
       "      <td>-0.265027</td>\n",
       "      <td>0.072084</td>\n",
       "      <td>0</td>\n",
       "    </tr>\n",
       "    <tr>\n",
       "      <th>4</th>\n",
       "      <td>False</td>\n",
       "      <td>1200m</td>\n",
       "      <td>Production</td>\n",
       "      <td>YC-08</td>\n",
       "      <td>28.66</td>\n",
       "      <td>50.8</td>\n",
       "      <td>0.9</td>\n",
       "      <td>120.29</td>\n",
       "      <td>122.29</td>\n",
       "      <td>1020.6</td>\n",
       "      <td>1263</td>\n",
       "      <td>0.01138</td>\n",
       "      <td>89.05</td>\n",
       "      <td>2.599</td>\n",
       "      <td>2.665</td>\n",
       "      <td>3.153</td>\n",
       "      <td>0.156794</td>\n",
       "      <td>0.115800</td>\n",
       "      <td>0</td>\n",
       "    </tr>\n",
       "  </tbody>\n",
       "</table>\n",
       "</div>"
      ],
      "text/plain": [
       "   Bleedout   底片長度          型態   機台ID   塗佈溫度  塗佈濕度  馬達壓力   乾燥溫度一   乾燥溫度二  \\\n",
       "0     False   500m  Production  YC-08  27.36  50.2   0.9  120.00  122.00   \n",
       "1     False   500m  Production  YC-08  27.25  51.1   0.9  120.47  122.00   \n",
       "2     False  1500m   Prototype  YC-08  27.57  50.3   0.9  120.05  122.05   \n",
       "3     False  1000m  Production  YC-08  28.50  50.9   0.9  120.14  122.00   \n",
       "4     False  1200m  Production  YC-08  28.66  50.8   0.9  120.29  122.29   \n",
       "\n",
       "     UV暴露  照明時間     爐子O2  底片UV溫度    張力一    張力二   彎曲張力    EPC差異一    EPC差異二  \\\n",
       "0  1020.0   344  0.01017   89.03  4.981  2.397  3.102  0.072875  0.075678   \n",
       "1  1021.3  2079  0.01247   89.07  2.980  3.081  3.184  0.021427  0.041128   \n",
       "2  1020.2   431  0.01052   89.02  1.786  4.684  3.116  0.081048  0.097389   \n",
       "3  1020.3  1343  0.01160   89.05  4.068  2.574  3.135 -0.265027  0.072084   \n",
       "4  1020.6  1263  0.01138   89.05  2.599  2.665  3.153  0.156794  0.115800   \n",
       "\n",
       "   缺陷Mode  \n",
       "0       0  \n",
       "1       0  \n",
       "2       0  \n",
       "3       0  \n",
       "4       0  "
      ]
     },
     "execution_count": 6,
     "metadata": {},
     "output_type": "execute_result"
    }
   ],
   "source": [
    "df = pd.read_csv('DataRobot_Case1.csv')\n",
    "df.head()"
   ]
  },
  {
   "cell_type": "code",
   "execution_count": 3,
   "metadata": {},
   "outputs": [
    {
     "data": {
      "text/plain": [
       "<datarobot.rest.RESTClientObject at 0x25041a1ff88>"
      ]
     },
     "execution_count": 3,
     "metadata": {},
     "output_type": "execute_result"
    }
   ],
   "source": [
    "dr.Client(token=peforth.execute('api_token').pop(), endpoint=peforth.execute('endpoint').pop())"
   ]
  },
  {
   "cell_type": "code",
   "execution_count": 7,
   "metadata": {},
   "outputs": [],
   "source": [
    "# 這一步過了好久，上網頁查看，發現 DataRobot_APITraining 已經建立起來了，再過一會兒發現這裡也好了。\n",
    "# 重複做會重複 create 同名 project 所以要研究如何開舊的？\n",
    "project = dr.Project.create(df, project_name = 'DataRobot AutoML/AutoTS Enablement Workshop')"
   ]
  },
  {
   "cell_type": "code",
   "execution_count": 8,
   "metadata": {},
   "outputs": [
    {
     "data": {
      "text/plain": [
       "Project(DataRobot AutoML/AutoTS Enablement Workshop)"
      ]
     },
     "execution_count": 8,
     "metadata": {},
     "output_type": "execute_result"
    }
   ],
   "source": [
    "# 這 cell 一跑，從網頁上看真的就像 Start 被按了一樣，\n",
    "project.set_target(\n",
    "    target = 'Bleedout',\n",
    "    worker_count = -1,\n",
    "    mode = dr.AUTOPILOT_MODE.QUICK)"
   ]
  },
  {
   "cell_type": "code",
   "execution_count": 9,
   "metadata": {},
   "outputs": [
    {
     "name": "stdout",
     "output_type": "stream",
     "text": [
      "Model('Elastic-Net Classifier (L2 / Binomial Deviance)')\n"
     ]
    },
    {
     "data": {
      "text/plain": [
       "0.57617"
      ]
     },
     "execution_count": 9,
     "metadata": {},
     "output_type": "execute_result"
    }
   ],
   "source": [
    "best_model = project.get_models()[0]\n",
    "print(best_model)\n",
    "best_model.metrics['LogLoss']['validation']\n"
   ]
  },
  {
   "cell_type": "code",
   "execution_count": 1,
   "metadata": {},
   "outputs": [
    {
     "name": "stderr",
     "output_type": "stream",
     "text": [
      "UsageError: Unknown variable 'project'\n"
     ]
    }
   ],
   "source": [
    "%store project"
   ]
  },
  {
   "cell_type": "code",
   "execution_count": null,
   "metadata": {},
   "outputs": [],
   "source": []
  }
 ],
 "metadata": {
  "kernelspec": {
   "display_name": "Python 3",
   "language": "python",
   "name": "python3"
  },
  "language_info": {
   "codemirror_mode": {
    "name": "ipython",
    "version": 3
   },
   "file_extension": ".py",
   "mimetype": "text/x-python",
   "name": "python",
   "nbconvert_exporter": "python",
   "pygments_lexer": "ipython3",
   "version": "3.7.5"
  }
 },
 "nbformat": 4,
 "nbformat_minor": 4
}
