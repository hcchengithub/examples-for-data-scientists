{
 "cells": [
  {
   "cell_type": "markdown",
   "metadata": {},
   "source": [
    "# 用 DataRobot 分析 Hubble2 自動標註 Component"
   ]
  },
  {
   "cell_type": "code",
   "execution_count": 1,
   "metadata": {
    "scrolled": true
   },
   "outputs": [
    {
     "name": "stdout",
     "output_type": "stream",
     "text": [
      "reDef unknown\n",
      "reDef -->\n",
      "p e f o r t h    v1.26\n",
      "source code http://github.com/hcchengithub/peforth\n",
      "Type 'peforth.ok()' to enter forth interpreter, 'exit' to come back.\n",
      "\n"
     ]
    }
   ],
   "source": [
    "%run ../../forth.py"
   ]
  },
  {
   "cell_type": "code",
   "execution_count": 2,
   "metadata": {},
   "outputs": [],
   "source": [
    "import datarobot as dr \n",
    "import pandas as pd\n",
    "import numpy as np\n",
    "import math"
   ]
  },
  {
   "cell_type": "code",
   "execution_count": 16,
   "metadata": {},
   "outputs": [
    {
     "data": {
      "text/plain": [
       "<datarobot.rest.RESTClientObject at 0x1ea56a7ac88>"
      ]
     },
     "execution_count": 16,
     "metadata": {},
     "output_type": "execute_result"
    }
   ],
   "source": [
    "dr.Client(token=peforth.execute('api_token').pop(), endpoint=peforth.execute('endpoint').pop())"
   ]
  },
  {
   "cell_type": "code",
   "execution_count": 17,
   "metadata": {},
   "outputs": [
    {
     "name": "stdout",
     "output_type": "stream",
     "text": [
      "project --> Project(hubble2 component) (<class 'datarobot.models.project.Project'>)\n"
     ]
    }
   ],
   "source": [
    "# 用片段 project name 找回 project\n",
    "%f dropall dr :>~ Project.list(search_params={'project_name':'hubble2 component'})\n",
    "project = peforth.pop()[0]\n",
    "%f project -->"
   ]
  },
  {
   "cell_type": "code",
   "execution_count": null,
   "metadata": {},
   "outputs": [],
   "source": [
    "project.get_featurelists()"
   ]
  },
  {
   "cell_type": "code",
   "execution_count": null,
   "metadata": {},
   "outputs": [],
   "source": [
    "featurelist = project.get_featurelists()[0]\n",
    "%f featurelist :> name -->\n",
    "%f featurelist :> features -->"
   ]
  },
  {
   "cell_type": "markdown",
   "metadata": {},
   "source": [
    "## hubble2 component 1\n",
    "\n",
    "看 owner 可以知道 component。如果 feature list 用 recommended DR reduced Features M6 則從 feature impact 看來，最重要的就是 owner 然後是 subject "
   ]
  },
  {
   "cell_type": "code",
   "execution_count": null,
   "metadata": {},
   "outputs": [],
   "source": [
    "# 精挑 feature list 跑跑看\n",
    "featurelist = project.create_featurelist(\n",
    "    'hubble2 component 1', \n",
    "    ['Customer', 'Subject', 'Description', 'Creator', 'owner', 'RootCause', 'CustomerPhase'])"
   ]
  },
  {
   "cell_type": "code",
   "execution_count": null,
   "metadata": {},
   "outputs": [],
   "source": [
    "%f featurelist -->"
   ]
  },
  {
   "cell_type": "code",
   "execution_count": null,
   "metadata": {},
   "outputs": [],
   "source": [
    "project.set_target(  \n",
    "    target='GeneralComponentType',\n",
    "    worker_count = '-1', \n",
    "    mode=dr.AUTOPILOT_MODE.QUICK,\n",
    "    featurelist_id=featurelist.id\n",
    ")\n",
    "project.wait_for_autopilot()  # Wait for autopilot to complete\n"
   ]
  },
  {
   "cell_type": "code",
   "execution_count": 3,
   "metadata": {},
   "outputs": [
    {
     "name": "stderr",
     "output_type": "stream",
     "text": [
      "C:\\Users\\8304018\\AppData\\Local\\Continuum\\anaconda3\\envs\\peforthDevelop\\lib\\site-packages\\ipykernel_launcher.py:2: FutureWarning: Your version of xlrd is 1.2.0. In xlrd >= 2.0, only the xls format is supported. As a result, the openpyxl engine will be used if it is installed and the engine argument is not specified. Install openpyxl instead.\n",
      "  \n"
     ]
    },
    {
     "data": {
      "text/html": [
       "<div>\n",
       "<style scoped>\n",
       "    .dataframe tbody tr th:only-of-type {\n",
       "        vertical-align: middle;\n",
       "    }\n",
       "\n",
       "    .dataframe tbody tr th {\n",
       "        vertical-align: top;\n",
       "    }\n",
       "\n",
       "    .dataframe thead th {\n",
       "        text-align: right;\n",
       "    }\n",
       "</style>\n",
       "<table border=\"1\" class=\"dataframe\">\n",
       "  <thead>\n",
       "    <tr style=\"text-align: right;\">\n",
       "      <th></th>\n",
       "      <th>Customer</th>\n",
       "      <th>bugid</th>\n",
       "      <th>ProjectName</th>\n",
       "      <th>Creator</th>\n",
       "      <th>OpenDate</th>\n",
       "      <th>Subject</th>\n",
       "      <th>Severity</th>\n",
       "      <th>owner</th>\n",
       "      <th>Status</th>\n",
       "      <th>Description</th>\n",
       "      <th>...</th>\n",
       "      <th>CustomerPhase</th>\n",
       "      <th>CloseDate</th>\n",
       "      <th>LastUpdate</th>\n",
       "      <th>GeneralComponentType</th>\n",
       "      <th>GeneralSeverity</th>\n",
       "      <th>GeneralStatus</th>\n",
       "      <th>Unnamed: 18</th>\n",
       "      <th>Unnamed: 19</th>\n",
       "      <th>Unnamed: 20</th>\n",
       "      <th>Unnamed: 21</th>\n",
       "    </tr>\n",
       "  </thead>\n",
       "  <tbody>\n",
       "    <tr>\n",
       "      <th>0</th>\n",
       "      <td>Annie</td>\n",
       "      <td>169608</td>\n",
       "      <td>Crux_WL</td>\n",
       "      <td>Potato_Chen@wistron.com</td>\n",
       "      <td>2018-12-14 21:23:00</td>\n",
       "      <td>QT, C phase, Sound is small when set intenal s...</td>\n",
       "      <td>1</td>\n",
       "      <td>Ivan_Tseng@wistron.com</td>\n",
       "      <td>Closed</td>\n",
       "      <td>QT, C phase, Sound is small when set intenal s...</td>\n",
       "      <td>...</td>\n",
       "      <td>NaN</td>\n",
       "      <td>2018-12-21 16:20:57</td>\n",
       "      <td>2018-12-21 16:19:56</td>\n",
       "      <td>SW_Driver</td>\n",
       "      <td>1</td>\n",
       "      <td>Closed</td>\n",
       "      <td>NaN</td>\n",
       "      <td>NaN</td>\n",
       "      <td>NaN</td>\n",
       "      <td>NaN</td>\n",
       "    </tr>\n",
       "    <tr>\n",
       "      <th>1</th>\n",
       "      <td>Annie</td>\n",
       "      <td>170860</td>\n",
       "      <td>Ghibli_CFS</td>\n",
       "      <td>Jianyong_Bai@wistron.com</td>\n",
       "      <td>2019-01-15 13:11:00</td>\n",
       "      <td>QT, Ghibil,GhibliC,Win10.17134.Pro, Final Fant...</td>\n",
       "      <td>1</td>\n",
       "      <td>Rossi_Lin@wistron.com</td>\n",
       "      <td>Closed</td>\n",
       "      <td>QT, Ghibil,GhibliC,Win10.17134.Pro, Final Fant...</td>\n",
       "      <td>...</td>\n",
       "      <td>NaN</td>\n",
       "      <td>2019-01-29 15:44:38</td>\n",
       "      <td>2019-04-15 16:07:00</td>\n",
       "      <td>HW</td>\n",
       "      <td>1</td>\n",
       "      <td>Closed</td>\n",
       "      <td>NaN</td>\n",
       "      <td>NaN</td>\n",
       "      <td>NaN</td>\n",
       "      <td>NaN</td>\n",
       "    </tr>\n",
       "    <tr>\n",
       "      <th>2</th>\n",
       "      <td>Annie</td>\n",
       "      <td>167140</td>\n",
       "      <td>vCopperbox</td>\n",
       "      <td>Vicky_Kang@wistron.com</td>\n",
       "      <td>2018-09-11 15:40:00</td>\n",
       "      <td>[2DP] ML3(Win10) test result is fail.</td>\n",
       "      <td>3</td>\n",
       "      <td>Ingrid_Weng@wistron.com</td>\n",
       "      <td>Defer</td>\n",
       "      <td>[2DP] ML3(Win10) test result is fail.</td>\n",
       "      <td>...</td>\n",
       "      <td>NaN</td>\n",
       "      <td>1900-01-01 00:00:00</td>\n",
       "      <td>2018-10-01 14:34:56</td>\n",
       "      <td>SW_Driver</td>\n",
       "      <td>3</td>\n",
       "      <td>Closed</td>\n",
       "      <td>NaN</td>\n",
       "      <td>NaN</td>\n",
       "      <td>NaN</td>\n",
       "      <td>NaN</td>\n",
       "    </tr>\n",
       "    <tr>\n",
       "      <th>3</th>\n",
       "      <td>Annie</td>\n",
       "      <td>144950</td>\n",
       "      <td>Flavia</td>\n",
       "      <td>Apache_Lai@wistron.com</td>\n",
       "      <td>2017-02-21 13:53:00</td>\n",
       "      <td>The Screen brightness bar will show in Power O...</td>\n",
       "      <td>3</td>\n",
       "      <td>Newman_Chuang@wistron.com</td>\n",
       "      <td>Closed</td>\n",
       "      <td>The Screen brightness bar will show in Power O...</td>\n",
       "      <td>...</td>\n",
       "      <td>NaN</td>\n",
       "      <td>2017-05-12 11:19:52</td>\n",
       "      <td>2017-05-12 11:18:56</td>\n",
       "      <td>Others</td>\n",
       "      <td>3</td>\n",
       "      <td>Closed</td>\n",
       "      <td>NaN</td>\n",
       "      <td>NaN</td>\n",
       "      <td>NaN</td>\n",
       "      <td>NaN</td>\n",
       "    </tr>\n",
       "    <tr>\n",
       "      <th>4</th>\n",
       "      <td>Annie</td>\n",
       "      <td>164917</td>\n",
       "      <td>vGore</td>\n",
       "      <td>Xinlin_Zhong@wistron.com</td>\n",
       "      <td>2018-06-20 14:43:00</td>\n",
       "      <td>ML2 test result will shows Fail under DCHUAsse...</td>\n",
       "      <td>3</td>\n",
       "      <td>Jerry_Kuo@wistron.com</td>\n",
       "      <td>Closed</td>\n",
       "      <td>ML2 test result will shows Fail under DCHUAsse...</td>\n",
       "      <td>...</td>\n",
       "      <td>NaN</td>\n",
       "      <td>2018-07-18 11:20:14</td>\n",
       "      <td>2018-07-18 11:19:56</td>\n",
       "      <td>SW_Driver</td>\n",
       "      <td>3</td>\n",
       "      <td>Closed</td>\n",
       "      <td>NaN</td>\n",
       "      <td>NaN</td>\n",
       "      <td>NaN</td>\n",
       "      <td>NaN</td>\n",
       "    </tr>\n",
       "    <tr>\n",
       "      <th>...</th>\n",
       "      <td>...</td>\n",
       "      <td>...</td>\n",
       "      <td>...</td>\n",
       "      <td>...</td>\n",
       "      <td>...</td>\n",
       "      <td>...</td>\n",
       "      <td>...</td>\n",
       "      <td>...</td>\n",
       "      <td>...</td>\n",
       "      <td>...</td>\n",
       "      <td>...</td>\n",
       "      <td>...</td>\n",
       "      <td>...</td>\n",
       "      <td>...</td>\n",
       "      <td>...</td>\n",
       "      <td>...</td>\n",
       "      <td>...</td>\n",
       "      <td>...</td>\n",
       "      <td>...</td>\n",
       "      <td>...</td>\n",
       "      <td>...</td>\n",
       "    </tr>\n",
       "    <tr>\n",
       "      <th>79548</th>\n",
       "      <td>UTS</td>\n",
       "      <td>BA6250</td>\n",
       "      <td>PIQ47L-VCOPPERBOX2</td>\n",
       "      <td>Tina S Lin</td>\n",
       "      <td>2019-11-12 17:03:35</td>\n",
       "      <td>Q470:Q470 is no PD-In connect pin.</td>\n",
       "      <td>1</td>\n",
       "      <td>Jimb Chang</td>\n",
       "      <td>Open</td>\n",
       "      <td>Procedure:&lt;BR&gt;1.Q470 is no PD-In connect pin.&lt;...</td>\n",
       "      <td>...</td>\n",
       "      <td>NaN</td>\n",
       "      <td>1900-01-01 00:00:00</td>\n",
       "      <td>2019-11-12 17:03:35</td>\n",
       "      <td>HW</td>\n",
       "      <td>1</td>\n",
       "      <td>Open</td>\n",
       "      <td>NaN</td>\n",
       "      <td>NaN</td>\n",
       "      <td>NaN</td>\n",
       "      <td>NaN</td>\n",
       "    </tr>\n",
       "    <tr>\n",
       "      <th>79549</th>\n",
       "      <td>UTS</td>\n",
       "      <td>BA6705</td>\n",
       "      <td>PIQ47L-VCOPPERBOX2</td>\n",
       "      <td>Tina S Lin</td>\n",
       "      <td>2019-12-03 17:54:16</td>\n",
       "      <td>H470/Q470: RAID1 volume cann't be detect on OS...</td>\n",
       "      <td>2</td>\n",
       "      <td>Maverick Lu</td>\n",
       "      <td>Open</td>\n",
       "      <td>Procedure:&lt;BR&gt;1.Boot to BIOS.&lt;BR&gt;2.Create RAID...</td>\n",
       "      <td>...</td>\n",
       "      <td>NaN</td>\n",
       "      <td>1900-01-01 00:00:00</td>\n",
       "      <td>2019-12-03 17:54:16</td>\n",
       "      <td>Others</td>\n",
       "      <td>2</td>\n",
       "      <td>Open</td>\n",
       "      <td>NaN</td>\n",
       "      <td>NaN</td>\n",
       "      <td>NaN</td>\n",
       "      <td>NaN</td>\n",
       "    </tr>\n",
       "    <tr>\n",
       "      <th>79550</th>\n",
       "      <td>UTS</td>\n",
       "      <td>AV7931</td>\n",
       "      <td>MA18-LTE</td>\n",
       "      <td>Alex CW Huang</td>\n",
       "      <td>2017-02-20 10:41:01</td>\n",
       "      <td>[TiMi] MA18_LTE, SDV : Bezel rubber 左右侧有毛边.(FR...</td>\n",
       "      <td>1</td>\n",
       "      <td>Leo TC Chen/WHQ/Wistron</td>\n",
       "      <td>Verify</td>\n",
       "      <td>&lt;SPAN style=\"FONT-FAMILY: Calibri; COLOR: #002...</td>\n",
       "      <td>...</td>\n",
       "      <td>NaN</td>\n",
       "      <td>1900-01-01 00:00:00</td>\n",
       "      <td>2017-06-23 13:15:12</td>\n",
       "      <td>Others</td>\n",
       "      <td>1</td>\n",
       "      <td>Verify</td>\n",
       "      <td>NaN</td>\n",
       "      <td>NaN</td>\n",
       "      <td>NaN</td>\n",
       "      <td>NaN</td>\n",
       "    </tr>\n",
       "    <tr>\n",
       "      <th>79551</th>\n",
       "      <td>UTS</td>\n",
       "      <td>BA2136</td>\n",
       "      <td>GHIBLI_CFS</td>\n",
       "      <td>Carlor Chen</td>\n",
       "      <td>2018-12-18 11:02:21</td>\n",
       "      <td>ENG1, Win10.17134.Pro, SKUC, NV Control panel ...</td>\n",
       "      <td>2</td>\n",
       "      <td>Kobe Kao</td>\n",
       "      <td>Open</td>\n",
       "      <td>a. Attach Acer dock to system&lt;BR&gt;b. Set HDMI/D...</td>\n",
       "      <td>...</td>\n",
       "      <td>NaN</td>\n",
       "      <td>1900-01-01 00:00:00</td>\n",
       "      <td>2018-12-18 11:02:21</td>\n",
       "      <td>SW</td>\n",
       "      <td>2</td>\n",
       "      <td>Open</td>\n",
       "      <td>NaN</td>\n",
       "      <td>NaN</td>\n",
       "      <td>NaN</td>\n",
       "      <td>NaN</td>\n",
       "    </tr>\n",
       "    <tr>\n",
       "      <th>79552</th>\n",
       "      <td>UTS</td>\n",
       "      <td>AZ1265</td>\n",
       "      <td>MIB36L-vMocha VS2660G</td>\n",
       "      <td>Allen Z Chen</td>\n",
       "      <td>2017-12-26 20:10:25</td>\n",
       "      <td>[BIOS function]&lt;New Line&gt;System report pass (g...</td>\n",
       "      <td>2</td>\n",
       "      <td>Henry SH Wang</td>\n",
       "      <td>Open</td>\n",
       "      <td>Procedure:&lt;BR&gt;1. Boot to system BIOS check BIO...</td>\n",
       "      <td>...</td>\n",
       "      <td>NaN</td>\n",
       "      <td>1900-01-01 00:00:00</td>\n",
       "      <td>2017-12-26 20:10:21</td>\n",
       "      <td>SW_BIOS</td>\n",
       "      <td>2</td>\n",
       "      <td>Open</td>\n",
       "      <td>NaN</td>\n",
       "      <td>NaN</td>\n",
       "      <td>NaN</td>\n",
       "      <td>NaN</td>\n",
       "    </tr>\n",
       "  </tbody>\n",
       "</table>\n",
       "<p>79553 rows × 22 columns</p>\n",
       "</div>"
      ],
      "text/plain": [
       "      Customer   bugid            ProjectName                   Creator  \\\n",
       "0        Annie  169608                Crux_WL   Potato_Chen@wistron.com   \n",
       "1        Annie  170860             Ghibli_CFS  Jianyong_Bai@wistron.com   \n",
       "2        Annie  167140             vCopperbox    Vicky_Kang@wistron.com   \n",
       "3        Annie  144950                 Flavia    Apache_Lai@wistron.com   \n",
       "4        Annie  164917                  vGore  Xinlin_Zhong@wistron.com   \n",
       "...        ...     ...                    ...                       ...   \n",
       "79548      UTS  BA6250     PIQ47L-VCOPPERBOX2                Tina S Lin   \n",
       "79549      UTS  BA6705     PIQ47L-VCOPPERBOX2                Tina S Lin   \n",
       "79550      UTS  AV7931               MA18-LTE             Alex CW Huang   \n",
       "79551      UTS  BA2136             GHIBLI_CFS               Carlor Chen   \n",
       "79552      UTS  AZ1265  MIB36L-vMocha VS2660G              Allen Z Chen   \n",
       "\n",
       "                 OpenDate                                            Subject  \\\n",
       "0     2018-12-14 21:23:00  QT, C phase, Sound is small when set intenal s...   \n",
       "1     2019-01-15 13:11:00  QT, Ghibil,GhibliC,Win10.17134.Pro, Final Fant...   \n",
       "2     2018-09-11 15:40:00              [2DP] ML3(Win10) test result is fail.   \n",
       "3     2017-02-21 13:53:00  The Screen brightness bar will show in Power O...   \n",
       "4     2018-06-20 14:43:00  ML2 test result will shows Fail under DCHUAsse...   \n",
       "...                   ...                                                ...   \n",
       "79548 2019-11-12 17:03:35                 Q470:Q470 is no PD-In connect pin.   \n",
       "79549 2019-12-03 17:54:16  H470/Q470: RAID1 volume cann't be detect on OS...   \n",
       "79550 2017-02-20 10:41:01  [TiMi] MA18_LTE, SDV : Bezel rubber 左右侧有毛边.(FR...   \n",
       "79551 2018-12-18 11:02:21  ENG1, Win10.17134.Pro, SKUC, NV Control panel ...   \n",
       "79552 2017-12-26 20:10:25  [BIOS function]<New Line>System report pass (g...   \n",
       "\n",
       "      Severity                      owner  Status  \\\n",
       "0            1     Ivan_Tseng@wistron.com  Closed   \n",
       "1            1      Rossi_Lin@wistron.com  Closed   \n",
       "2            3    Ingrid_Weng@wistron.com   Defer   \n",
       "3            3  Newman_Chuang@wistron.com  Closed   \n",
       "4            3      Jerry_Kuo@wistron.com  Closed   \n",
       "...        ...                        ...     ...   \n",
       "79548        1                 Jimb Chang    Open   \n",
       "79549        2                Maverick Lu    Open   \n",
       "79550        1    Leo TC Chen/WHQ/Wistron  Verify   \n",
       "79551        2                   Kobe Kao    Open   \n",
       "79552        2              Henry SH Wang    Open   \n",
       "\n",
       "                                             Description  ... CustomerPhase  \\\n",
       "0      QT, C phase, Sound is small when set intenal s...  ...           NaN   \n",
       "1      QT, Ghibil,GhibliC,Win10.17134.Pro, Final Fant...  ...           NaN   \n",
       "2                  [2DP] ML3(Win10) test result is fail.  ...           NaN   \n",
       "3      The Screen brightness bar will show in Power O...  ...           NaN   \n",
       "4      ML2 test result will shows Fail under DCHUAsse...  ...           NaN   \n",
       "...                                                  ...  ...           ...   \n",
       "79548  Procedure:<BR>1.Q470 is no PD-In connect pin.<...  ...           NaN   \n",
       "79549  Procedure:<BR>1.Boot to BIOS.<BR>2.Create RAID...  ...           NaN   \n",
       "79550  <SPAN style=\"FONT-FAMILY: Calibri; COLOR: #002...  ...           NaN   \n",
       "79551  a. Attach Acer dock to system<BR>b. Set HDMI/D...  ...           NaN   \n",
       "79552  Procedure:<BR>1. Boot to system BIOS check BIO...  ...           NaN   \n",
       "\n",
       "                 CloseDate           LastUpdate GeneralComponentType  \\\n",
       "0      2018-12-21 16:20:57  2018-12-21 16:19:56            SW_Driver   \n",
       "1      2019-01-29 15:44:38  2019-04-15 16:07:00                   HW   \n",
       "2      1900-01-01 00:00:00  2018-10-01 14:34:56            SW_Driver   \n",
       "3      2017-05-12 11:19:52  2017-05-12 11:18:56               Others   \n",
       "4      2018-07-18 11:20:14  2018-07-18 11:19:56            SW_Driver   \n",
       "...                    ...                  ...                  ...   \n",
       "79548  1900-01-01 00:00:00  2019-11-12 17:03:35                   HW   \n",
       "79549  1900-01-01 00:00:00  2019-12-03 17:54:16               Others   \n",
       "79550  1900-01-01 00:00:00  2017-06-23 13:15:12               Others   \n",
       "79551  1900-01-01 00:00:00  2018-12-18 11:02:21                   SW   \n",
       "79552  1900-01-01 00:00:00  2017-12-26 20:10:21              SW_BIOS   \n",
       "\n",
       "      GeneralSeverity GeneralStatus Unnamed: 18 Unnamed: 19 Unnamed: 20  \\\n",
       "0                   1        Closed         NaN         NaN         NaN   \n",
       "1                   1        Closed         NaN         NaN         NaN   \n",
       "2                   3        Closed         NaN         NaN         NaN   \n",
       "3                   3        Closed         NaN         NaN         NaN   \n",
       "4                   3        Closed         NaN         NaN         NaN   \n",
       "...               ...           ...         ...         ...         ...   \n",
       "79548               1          Open         NaN         NaN         NaN   \n",
       "79549               2          Open         NaN         NaN         NaN   \n",
       "79550               1        Verify         NaN         NaN         NaN   \n",
       "79551               2          Open         NaN         NaN         NaN   \n",
       "79552               2          Open         NaN         NaN         NaN   \n",
       "\n",
       "      Unnamed: 21  \n",
       "0             NaN  \n",
       "1             NaN  \n",
       "2             NaN  \n",
       "3             NaN  \n",
       "4             NaN  \n",
       "...           ...  \n",
       "79548         NaN  \n",
       "79549         NaN  \n",
       "79550         NaN  \n",
       "79551         NaN  \n",
       "79552         NaN  \n",
       "\n",
       "[79553 rows x 22 columns]"
      ]
     },
     "execution_count": 3,
     "metadata": {},
     "output_type": "execute_result"
    }
   ],
   "source": [
    "# 2021/07/19 15:30  read the data  \n",
    "df = pd.read_excel(r\"c:\\Users\\8304018\\Documents\\GitHub\\examples-for-data-scientists\\Playground\\hubble2\\hubble2-2017-2019.xlsx\");\n",
    "df"
   ]
  },
  {
   "cell_type": "markdown",
   "metadata": {},
   "source": [
    "# Annie\n",
    "\n",
    "雖然只有 19% 正確。考慮 training data 只有 7/959 屬 Annie 似乎表示 AI 有學到一些 common insights."
   ]
  },
  {
   "cell_type": "code",
   "execution_count": 9,
   "metadata": {},
   "outputs": [],
   "source": [
    "# 用 df.query 篩選 dataframe 例如 test_data.query('300 <= Days') \n",
    "df_annie = df.query('Customer==\"Annie\"')"
   ]
  },
  {
   "cell_type": "code",
   "execution_count": 10,
   "metadata": {},
   "outputs": [
    {
     "data": {
      "text/plain": [
       "(4504, 22)"
      ]
     },
     "execution_count": 10,
     "metadata": {},
     "output_type": "execute_result"
    }
   ],
   "source": [
    "# 查看 shape 是 Annie 無誤\n",
    "df_annie.shape"
   ]
  },
  {
   "cell_type": "code",
   "execution_count": 13,
   "metadata": {},
   "outputs": [
    {
     "name": "stdout",
     "output_type": "stream",
     "text": [
      "annie_100 :> shape --> (100, 22) (<class 'tuple'>)\n"
     ]
    }
   ],
   "source": [
    "# 取少量來 predict 看看\n",
    "annie_100 = df_annie.sample(100)\n",
    "%f annie_100 :> shape -->"
   ]
  },
  {
   "cell_type": "code",
   "execution_count": null,
   "metadata": {},
   "outputs": [],
   "source": [
    "models = project.get_models()"
   ]
  },
  {
   "cell_type": "code",
   "execution_count": 22,
   "metadata": {},
   "outputs": [
    {
     "name": "stdout",
     "output_type": "stream",
     "text": [
      "project --> Project(hubble2 component) (<class 'datarobot.models.project.Project'>)\n",
      "models --> [Model('Keras Slim Residual Neural Network Classifier using Training Schedule (1 Layer: 64 Units)'), Model('AVG Blender'), Model('Regularized Logistic Regression (L2)'), Model('Regularized Logistic Regression (L2)'), Model('Regularized Logistic Regression (L2)'), Model('Regularized Logistic Regression (L2)'), Model('eXtreme Gradient Boosted Trees Classifier'), Model('Light Gradient Boosted Trees Classifier with Early Stopping (SoftMax Loss) (16 leaves)'), Model('RandomForest Classifier (Gini)'), Model('TensorFlow Neural Network Classifier'), Model('ExtraTrees Classifier (Gini)')] (<class 'list'>)\n",
      "\n",
      "cr models :> [0] --> Model('Keras Slim Residual Neural Network Classifier using Training Schedule (1 Layer: 64 Units)') (<class 'datarobot.models.model.Model'>)\n",
      "這隻的 feature impact 看起來最合理，主要是根據 description 與 subject.\n",
      "\n"
     ]
    }
   ],
   "source": [
    "%f project -->\n",
    "%f models -->\n",
    "%f cr models :> [0] --> # 這隻的 feature impact 看起來最合理，主要是根據 description 與 subject."
   ]
  },
  {
   "cell_type": "code",
   "execution_count": 23,
   "metadata": {},
   "outputs": [
    {
     "name": "stdout",
     "output_type": "stream",
     "text": [
      "model --> Model('Keras Slim Residual Neural Network Classifier using Training Schedule (1 Layer: 64 Units)') (<class 'datarobot.models.model.Model'>)\n"
     ]
    }
   ],
   "source": [
    "model = models[0]\n",
    "%f model -->"
   ]
  },
  {
   "cell_type": "markdown",
   "metadata": {},
   "source": [
    "Before actually requesting predictions, you should upload the dataset you wish to predict via Project.upload_dataset. Previously uploaded datasets can be seen under Project.get_datasets. When uploading the dataset you can provide the path to a local file, a file object, raw file content, a pandas.DataFrame object, or the url to a publicly available dataset."
   ]
  },
  {
   "cell_type": "code",
   "execution_count": 26,
   "metadata": {},
   "outputs": [],
   "source": [
    "dataset = project.upload_dataset(annie_100)"
   ]
  },
  {
   "cell_type": "code",
   "execution_count": 30,
   "metadata": {},
   "outputs": [
    {
     "name": "stdout",
     "output_type": "stream",
     "text": [
      "dataset --> PredictionDataset('predict.csv') (<class 'datarobot.models.prediction_dataset.PredictionDataset'>)\n",
      "他主動幫忙取了個名字 'predict.csv'\n",
      "\n",
      "project :> get_datasets() --> [PredictionDataset('predict.csv')] (<class 'list'>)\n"
     ]
    }
   ],
   "source": [
    "%f dataset --> # 他主動幫忙取了個名字 'predict.csv'\n",
    "%f project :> get_datasets() -->"
   ]
  },
  {
   "cell_type": "code",
   "execution_count": 32,
   "metadata": {},
   "outputs": [],
   "source": [
    "predict_job = model.request_predictions(dataset.id)\n",
    "predict_job.wait_for_completion()"
   ]
  },
  {
   "cell_type": "code",
   "execution_count": 33,
   "metadata": {},
   "outputs": [
    {
     "name": "stdout",
     "output_type": "stream",
     "text": [
      "predict_job --> PredictJob(Model('60f4e46d12f5b66853b0eb3a'), status=COMPLETED) (<class 'datarobot.models.predict_job.PredictJob'>)\n"
     ]
    }
   ],
   "source": [
    "%f predict_job -->"
   ]
  },
  {
   "cell_type": "markdown",
   "metadata": {},
   "source": [
    "### prediction 做好了，用 UI 去 download excel 比較好，會沿用上面設定好的欄位。\n",
    "\n",
    "該 excel 需要一點整理，predict 結果都是分數要已最高值整理成結論：\n",
    "\n",
    "    Q2 =MID(INDEX($G$1:$P$1,0,MATCH(MAX($G2:$P2),$G2:$P2,0)),12,100)\n",
    "\tR2 =INT(Q2=F2)\n"
   ]
  },
  {
   "cell_type": "markdown",
   "metadata": {},
   "source": [
    "# ROSA\n"
   ]
  },
  {
   "cell_type": "code",
   "execution_count": 36,
   "metadata": {},
   "outputs": [],
   "source": [
    "# 用 df.query 篩選 dataframe 例如 test_data.query('300 <= Days') \n",
    "df_rosa = df.query('Customer==\"ROSA\"')"
   ]
  },
  {
   "cell_type": "code",
   "execution_count": 37,
   "metadata": {},
   "outputs": [
    {
     "data": {
      "text/plain": [
       "(30614, 22)"
      ]
     },
     "execution_count": 37,
     "metadata": {},
     "output_type": "execute_result"
    }
   ],
   "source": [
    "# 查看 shape 是 Annie 無誤\n",
    "df_rosa.shape"
   ]
  },
  {
   "cell_type": "code",
   "execution_count": 38,
   "metadata": {},
   "outputs": [
    {
     "name": "stdout",
     "output_type": "stream",
     "text": [
      "rosa_100 :> shape --> (100, 22) (<class 'tuple'>)\n"
     ]
    }
   ],
   "source": [
    "# 取少量來 predict 看看\n",
    "rosa_100 = df_rosa.sample(100)\n",
    "%f rosa_100 :> shape -->"
   ]
  },
  {
   "cell_type": "code",
   "execution_count": null,
   "metadata": {},
   "outputs": [],
   "source": [
    "models = project.get_models()"
   ]
  },
  {
   "cell_type": "code",
   "execution_count": 39,
   "metadata": {},
   "outputs": [
    {
     "name": "stdout",
     "output_type": "stream",
     "text": [
      "project --> Project(hubble2 component) (<class 'datarobot.models.project.Project'>)\n",
      "models --> [Model('Keras Slim Residual Neural Network Classifier using Training Schedule (1 Layer: 64 Units)'), Model('AVG Blender'), Model('Regularized Logistic Regression (L2)'), Model('Regularized Logistic Regression (L2)'), Model('Regularized Logistic Regression (L2)'), Model('Regularized Logistic Regression (L2)'), Model('eXtreme Gradient Boosted Trees Classifier'), Model('Light Gradient Boosted Trees Classifier with Early Stopping (SoftMax Loss) (16 leaves)'), Model('RandomForest Classifier (Gini)'), Model('TensorFlow Neural Network Classifier'), Model('ExtraTrees Classifier (Gini)')] (<class 'list'>)\n",
      "\n",
      "cr models :> [0] --> Model('Keras Slim Residual Neural Network Classifier using Training Schedule (1 Layer: 64 Units)') (<class 'datarobot.models.model.Model'>)\n",
      "這隻的 feature impact 看起來最合理，主要是根據 description 與 subject.\n",
      "\n"
     ]
    }
   ],
   "source": [
    "%f project -->\n",
    "%f models -->\n",
    "%f cr models :> [0] --> # 這隻的 feature impact 看起來最合理，主要是根據 description 與 subject."
   ]
  },
  {
   "cell_type": "code",
   "execution_count": 40,
   "metadata": {},
   "outputs": [
    {
     "name": "stdout",
     "output_type": "stream",
     "text": [
      "model --> Model('Keras Slim Residual Neural Network Classifier using Training Schedule (1 Layer: 64 Units)') (<class 'datarobot.models.model.Model'>)\n"
     ]
    }
   ],
   "source": [
    "model = models[0]\n",
    "%f model -->"
   ]
  },
  {
   "cell_type": "markdown",
   "metadata": {},
   "source": [
    "Before actually requesting predictions, you should upload the dataset you wish to predict via Project.upload_dataset. Previously uploaded datasets can be seen under Project.get_datasets. When uploading the dataset you can provide the path to a local file, a file object, raw file content, a pandas.DataFrame object, or the url to a publicly available dataset."
   ]
  },
  {
   "cell_type": "code",
   "execution_count": 41,
   "metadata": {},
   "outputs": [],
   "source": [
    "dataset = project.upload_dataset(rosa_100)"
   ]
  },
  {
   "cell_type": "code",
   "execution_count": 42,
   "metadata": {},
   "outputs": [
    {
     "name": "stdout",
     "output_type": "stream",
     "text": [
      "dataset --> PredictionDataset('predict.csv') (<class 'datarobot.models.prediction_dataset.PredictionDataset'>)\n",
      "他主動幫忙取了個名字 'predict.csv'\n",
      "\n",
      "project :> get_datasets() --> [PredictionDataset('predict.csv'), PredictionDataset('predict.csv')] (<class 'list'>)\n"
     ]
    }
   ],
   "source": [
    "%f dataset --> # 他主動幫忙取了個名字 'predict.csv' 而且與之前的同名，並列在該 model 的 predict UI 中，靠時間分辨。\n",
    "%f project :> get_datasets() -->"
   ]
  },
  {
   "cell_type": "raw",
   "metadata": {},
   "source": [
    "以下就不用程式跑了，已經把 predict data 送上去了，然後用 UI 手動操作更方便。\n",
    "\n",
    "predict_job = model.request_predictions(dataset.id)\n",
    "predict_job.wait_for_completion()\n",
    "%f predict_job -->"
   ]
  },
  {
   "cell_type": "code",
   "execution_count": null,
   "metadata": {},
   "outputs": [],
   "source": []
  },
  {
   "cell_type": "code",
   "execution_count": null,
   "metadata": {},
   "outputs": [],
   "source": []
  },
  {
   "cell_type": "code",
   "execution_count": null,
   "metadata": {},
   "outputs": [],
   "source": []
  },
  {
   "cell_type": "code",
   "execution_count": 46,
   "metadata": {},
   "outputs": [],
   "source": [
    "? pd.read_sql"
   ]
  },
  {
   "cell_type": "code",
   "execution_count": 45,
   "metadata": {
    "scrolled": true
   },
   "outputs": [
    {
     "ename": "TypeError",
     "evalue": "read_sql() missing 1 required positional argument: 'con'",
     "output_type": "error",
     "traceback": [
      "\u001b[1;31m---------------------------------------------------------------------------\u001b[0m",
      "\u001b[1;31mTypeError\u001b[0m                                 Traceback (most recent call last)",
      "\u001b[1;32m<ipython-input-45-76e075a5153c>\u001b[0m in \u001b[0;36m<module>\u001b[1;34m\u001b[0m\n\u001b[1;32m----> 1\u001b[1;33m \u001b[0mpms\u001b[0m \u001b[1;33m=\u001b[0m \u001b[0mpd\u001b[0m\u001b[1;33m.\u001b[0m\u001b[0mread_sql\u001b[0m\u001b[1;33m(\u001b[0m\u001b[1;34mr\"c:\\Users\\8304018\\Documents\\GitHub\\examples-for-data-scientists\\Playground\\QT PMS\\LNBIssue.sql\"\u001b[0m\u001b[1;33m)\u001b[0m\u001b[1;33m\u001b[0m\u001b[1;33m\u001b[0m\u001b[0m\n\u001b[0m\u001b[0;32m      2\u001b[0m \u001b[0mpms\u001b[0m\u001b[1;33m\u001b[0m\u001b[1;33m\u001b[0m\u001b[0m\n",
      "\u001b[1;31mTypeError\u001b[0m: read_sql() missing 1 required positional argument: 'con'"
     ]
    }
   ],
   "source": [
    "pms = pd.read_sql(r\"c:\\Users\\8304018\\Documents\\GitHub\\examples-for-data-scientists\\Playground\\QT PMS\\LNBIssue.sql\")\n",
    "pms"
   ]
  },
  {
   "cell_type": "code",
   "execution_count": null,
   "metadata": {},
   "outputs": [],
   "source": []
  },
  {
   "cell_type": "code",
   "execution_count": null,
   "metadata": {},
   "outputs": [],
   "source": []
  },
  {
   "cell_type": "code",
   "execution_count": 47,
   "metadata": {},
   "outputs": [
    {
     "name": "stdout",
     "output_type": "stream",
     "text": [
      "\n",
      "paste\n",
      "6paste\n",
      "I am a student\n",
      "who's feet?\n",
      ".\n",
      "stella'sver\n",
      "\n",
      "Error! ver unknown.\n",
      "\n",
      "version\n",
      "p e f o r t h    v1.26\n",
      "source code http://github.com/hcchengithub/peforth\n",
      "Type 'peforth.ok()' to enter forth interpreter, 'exit' to come back.\n",
      "\n",
      "exit\n"
     ]
    }
   ],
   "source": [
    "%f *debug*"
   ]
  },
  {
   "cell_type": "code",
   "execution_count": null,
   "metadata": {},
   "outputs": [],
   "source": []
  },
  {
   "cell_type": "code",
   "execution_count": null,
   "metadata": {},
   "outputs": [],
   "source": []
  },
  {
   "cell_type": "code",
   "execution_count": null,
   "metadata": {},
   "outputs": [],
   "source": []
  }
 ],
 "metadata": {
  "kernelspec": {
   "display_name": "Python 3",
   "language": "python",
   "name": "python3"
  },
  "language_info": {
   "codemirror_mode": {
    "name": "ipython",
    "version": 3
   },
   "file_extension": ".py",
   "mimetype": "text/x-python",
   "name": "python",
   "nbconvert_exporter": "python",
   "pygments_lexer": "ipython3",
   "version": "3.7.5"
  }
 },
 "nbformat": 4,
 "nbformat_minor": 4
}
